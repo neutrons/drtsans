{
 "cells": [
  {
   "cell_type": "code",
   "execution_count": null,
   "metadata": {},
   "outputs": [],
   "source": [
    "import sys\n",
    "import time"
   ]
  },
  {
   "cell_type": "markdown",
   "metadata": {},
   "source": [
    "<h3>Barscan calculation</h3>\n",
    "\n",
    "Using a Nexus Event file for GPSANS (CG2_7465.nxs.h5) containing a full barscan, we calculate effective pixel positions (along the vertical, Y-coordinate) and pixel heights.\n",
    "\n",
    "Here we show metadata \"dcal_Readback\", containing the positions of the bar as a function or elapsed time since the start of the run.\n",
    "\n",
    "<img src=\"files/bar_position.png\" height=\"600\">\n",
    "\n",
    "**Functions and Algorithms used:**\n",
    "- [calculate_barscan_calibration](http://docs.drt-sans.ornl.gov/drtsans/pixel_calibration.html#drtsans.pixel_calibration.calculate_barscan_calibration)\n",
    "\n",
    "**Note:** Calculating the calibration takes in between 1 and five minutes. Although it's slow, new calibrations are supposed to happen not more than once or twice per cycle."
   ]
  },
  {
   "cell_type": "code",
   "execution_count": null,
   "metadata": {},
   "outputs": [],
   "source": [
    "from drtsans.pixel_calibration import calculate_barscan_calibration\n",
    "barscan_file = '/SNS/EQSANS/shared/sans-backend/data/new/ornl/sans/hfir/gpsans/pixel_calibration/CG2_7465.nxs.h5'\n",
    "start_time = time.time()\n",
    "calibration = calculate_barscan_calibration(barscan_file)  # calibration for detector array 'detector1'\n",
    "print('Calibration took ', int((time.time() - start_time) / 60), 'minutes')"
   ]
  },
  {
   "cell_type": "markdown",
   "metadata": {},
   "source": [
    "<h3>Plotting the calibration</h3>\n",
    "\n",
    "We can create a **2D intensity plot** for the pixel positions and heights using the `as_intensities` method of the calibration object (the calibration is a table of type [Table](https://code.ornl.gov/sns-hfir-scse/sans/sans-backend/blob/next/drtsans%2Fpixel_calibration.py#L90))\n",
    "\n",
    "**Functions and Algorithms used:**\n",
    "- [plot_detector](http://docs.drt-sans.ornl.gov/drtsans/plots.html#drtsans.plots.plot_detector)"
   ]
  },
  {
   "cell_type": "code",
   "execution_count": null,
   "metadata": {},
   "outputs": [],
   "source": [
    "views = calibration.as_intensities()  # returns two workspaces, one for positions and other for widths"
   ]
  },
  {
   "cell_type": "code",
   "execution_count": null,
   "metadata": {},
   "outputs": [],
   "source": [
    "# We create the \"plot_workspace\" function, which we will use a couple of times\n",
    "from drtsans.plots import plot_detector\n",
    "def plot_workspace(input_workspace):\n",
    "    return plot_detector(input_workspace, backend='mpl', imshow_kwargs={})"
   ]
  },
  {
   "cell_type": "code",
   "execution_count": null,
   "metadata": {},
   "outputs": [],
   "source": [
    "%matplotlib notebook\n",
    "plot_workspace(views.positions)\n",
    "plot_workspace(views.heights)"
   ]
  },
  {
   "cell_type": "markdown",
   "metadata": {},
   "source": [
    "We save the views with Mantid algorithm [SaveNexus](https://docs.mantidproject.org/nightly/algorithms/SaveNexus-v1.html). Later these files can be imported into MantidWorkbench or MantidPlot with [LoadNexus](https://docs.mantidproject.org/nightly/algorithms/LoadNexus-v1.html) and use the [instrument view widget](https://docs.mantidproject.org/nightly/tutorials/mantid_basic_course/connecting_data_to_instruments/01_introduction.html#introduction-conn)"
   ]
  },
  {
   "cell_type": "code",
   "execution_count": null,
   "metadata": {},
   "outputs": [],
   "source": [
    "from mantid.simpleapi import SaveNexus\n",
    "SaveNexus(views.positions, Filename='/tmp/positions.nxs')\n",
    "SaveNexus(views.heights, Filename='/tmp/heights.nxs')"
   ]
  },
  {
   "cell_type": "markdown",
   "metadata": {},
   "source": [
    "<h3>Saving the calibration</h3>\n",
    "\n",
    "Calibration objects are saved to a database as two separate pieces:  \n",
    "\n",
    "- metadata (instrument name, day stamp, name of the double-detector-array) is save to a JSON file.  \n",
    "- data (a table workspace) is saved to a Nexus file with SaveNexus.  \n",
    "\n",
    "There's a default database for every instrument. Their locations for their respective metadata JSON files:\n",
    "\n",
    "- BIOSANS: '/HFIR/CG3/shared/calibration/pixel_calibration.json'\n",
    "- EQSANS: '/SNS/EQSANS/shared/calibration/pixel_calibration.json'\n",
    "- GPSANS: '/HFIR/CG2/shared/calibration/pixel_calibration.json'\n",
    "\n",
    "Data tables are saved under `tables/` subdirectory:\n",
    "\n",
    "- BIOSANS: '/HFIR/CG3/shared/calibration/tables'\n",
    "- EQSANS: '/SNS/EQSANS/shared/calibration/tables'\n",
    "- GPSANS: '/HFIR/CG2/shared/calibration/tables'\n",
    "\n",
    "In this example, we don't want to pollute the default database so we save the calibration under `/tmp` directory. The statement below will create files `/tmp/calibration/metadata.json` and `/tmp/calibration/tables/barscan_GPSANS_detector1_20200103.nxs`."
   ]
  },
  {
   "cell_type": "code",
   "execution_count": null,
   "metadata": {},
   "outputs": [],
   "source": [
    "calibration.save(database='/tmp/calibration/metadata.json')"
   ]
  },
  {
   "cell_type": "markdown",
   "metadata": {},
   "source": [
    "<h3>Loading and applying a calibration</h3>\n",
    "\n",
    "Here we will load and apply the calibration we just saved onto run `CG2_9159.nxs.h5`.\n",
    "We use function load_calibration and `Table` method `apply`.\n",
    "\n",
    "We inspect whether the calibration has been applied with function `as_intensities`.\n",
    "\n",
    "**Functions and Algorithms used:**\n",
    "- [LoadEventNexus](https://docs.mantidproject.org/nightly/algorithms/LoadEventNexus-v1.html)\n",
    "- [as_intensities](http://docs.drt-sans.ornl.gov/drtsans/pixel_calibration.html#drtsans.pixel_calibration.as_intensities)"
   ]
  },
  {
   "cell_type": "code",
   "execution_count": null,
   "metadata": {},
   "outputs": [],
   "source": [
    "# Load the run to which we will apply the calibration\n",
    "from mantid.simpleapi import LoadEventNexus\n",
    "LoadEventNexus('/HFIR/CG2/IPTS-21752/nexus/CG2_9159.nxs.h5', OutputWorkspace='uncalibrated')"
   ]
  },
  {
   "cell_type": "code",
   "execution_count": null,
   "metadata": {},
   "outputs": [],
   "source": [
    "# Visualize the pixel positions and heights before the calibration is applied\n",
    "from drtsans.pixel_calibration import as_intensities\n",
    "uncalibrated_views = as_intensities('uncalibrated')\n",
    "plot_workspace(uncalibrated_views.positions)"
   ]
  },
  {
   "cell_type": "markdown",
   "metadata": {},
   "source": [
    "`as_intensities` creates a view of pixels' vertical positions that always assign a value of `y=0` to the bottom pixels. This is done intentionally so that the vertical positions are not masked in the instrument view of Mantid. The instrument view will mask any negative intensities."
   ]
  },
  {
   "cell_type": "code",
   "execution_count": null,
   "metadata": {},
   "outputs": [],
   "source": [
    "plot_workspace(uncalibrated_views.heights)"
   ]
  },
  {
   "cell_type": "markdown",
   "metadata": {},
   "source": [
    "The previous plot has only one color because all uncalibrated pixels have the same height.\n",
    "\n",
    "Now we load and apply the calibration that we just saved.\n",
    "\n",
    "**Functions and Algorithms used:**\n",
    "- [load_calibration](http://docs.drt-sans.ornl.gov/drtsans/pixel_calibration.html#drtsans.pixel_calibration.load_calibration)"
   ]
  },
  {
   "cell_type": "code",
   "execution_count": null,
   "metadata": {},
   "outputs": [],
   "source": [
    "# Load the calibration\n",
    "from drtsans.pixel_calibration import load_calibration\n",
    "calibration = load_calibration('uncalibrated', 'BARSCAN', database='/tmp/calibration/metadata.json')"
   ]
  },
  {
   "cell_type": "code",
   "execution_count": null,
   "metadata": {},
   "outputs": [],
   "source": [
    "# Apply the calibration.\n",
    "start_time = time.time()\n",
    "calibration.apply('uncalibrated', output_workspace='calibrated')\n",
    "print(f'Applying the calibration took {time.time() - start_time:.1} seconds')"
   ]
  },
  {
   "cell_type": "code",
   "execution_count": null,
   "metadata": {},
   "outputs": [],
   "source": [
    "# Visualize the pixel positions and heights after the calibration is applied\n",
    "calibrated_views = as_intensities('calibrated')\n",
    "plot_workspace(calibrated_views.positions)\n",
    "plot_workspace(calibrated_views.heights)"
   ]
  },
  {
   "cell_type": "markdown",
   "metadata": {},
   "source": [
    "Notice that the statement `calibration.apply('uncalibrated', output_workspace='calibrated')` has generated a new workspace, `calibrated`. This workspace is a clone of `uncalibrated` except for the pixel positions and heights.\n",
    "\n",
    "If you want to reuse the input workspace instead of generating a clone, then omit argument `output_workspace`, like this: `calibration.apply('uncalibrated')`. Now workspace `uncalibrated` will have calibrated pixel positions and heights."
   ]
  }
 ],
 "metadata": {
  "kernelspec": {
   "display_name": "sans-dev at jnrk-sns-analysis",
   "language": "python",
   "name": "jnrk-sns-analysis-sans-dev"
  },
  "language_info": {
   "codemirror_mode": {
    "name": "ipython",
    "version": 3
   },
   "file_extension": ".py",
   "mimetype": "text/x-python",
   "name": "python",
   "nbconvert_exporter": "python",
   "pygments_lexer": "ipython3",
   "version": "3.6.7"
  },
  "toc": {
   "base_numbering": 1,
   "nav_menu": {},
   "number_sections": true,
   "sideBar": true,
   "skip_h1_title": false,
   "title_cell": "Table of Contents",
   "title_sidebar": "Contents",
   "toc_cell": false,
   "toc_position": {},
   "toc_section_display": true,
   "toc_window_display": false
  }
 },
 "nbformat": 4,
 "nbformat_minor": 2
}
