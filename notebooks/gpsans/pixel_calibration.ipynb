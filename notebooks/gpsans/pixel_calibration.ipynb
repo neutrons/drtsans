{
 "cells": [
  {
   "cell_type": "markdown",
   "metadata": {},
   "source": [
    "<h3> Create and Save a Barscan Calibration</h3>\n",
    "\n",
    "Most relevant function here is [calculate_barscan_calibration](http://docs.drt-sans.ornl.gov/drtsans/pixel_calibration.html#drtsans.pixel_calibration.calculate_barscan_calibration).\n",
    "\n",
    "The output of <code>calculate_barscan_calibration</code> outputs an object containing two parts: a <b>metadata</b> (instrument name, day stamp, name of the double-detector-array), and the proper calibration data, contained in a Mantid <b>table</b> object."
   ]
  },
  {
   "cell_type": "code",
   "execution_count": null,
   "metadata": {},
   "outputs": [],
   "source": [
    "#\n",
    "# \"plot_workspace\" is a utility function, which we will use a couple of times\n",
    "#\n",
    "from drtsans.plots import plot_detector\n",
    "def plot_workspace(input_workspace, axes_mode='tube-pixel'):\n",
    "    return plot_detector(input_workspace, backend='mpl',axes_mode=axes_mode, imshow_kwargs={})"
   ]
  },
  {
   "cell_type": "markdown",
   "metadata": {},
   "source": [
    "The barscan file we'll use (CG2_7465.nxs.h5) contains a full barscan with 110 different positions for the bar."
   ]
  },
  {
   "cell_type": "code",
   "execution_count": null,
   "metadata": {},
   "outputs": [],
   "source": [
    "import os\n",
    "import time\n",
    "from drtsans.pixel_calibration import calculate_barscan_calibration\n",
    "\n",
    "data_dir = '/HFIR/CG2/shared/sans-backend/data/new/ornl/sans/hfir/gpsans/pixel_calibration'\n",
    "barscan_file = os.path.join(data_dir, 'CG2_7465.nxs.h5')  # absolute path to the file\n",
    "\n",
    "start_time = time.time()\n",
    "calibration = calculate_barscan_calibration(barscan_file)  # calibration for array 'detector1'\n",
    "print('Calibration took ', int((time.time() - start_time) / 60), 'minutes')"
   ]
  },
  {
   "cell_type": "markdown",
   "metadata": {},
   "source": [
    "<h5>Calibration objects are saved to a database as two separate pieces:</h5>\n",
    "\n",
    "- metadata (instrument name, day stamp, name of the double-detector-array) is save to a JSON file.  \n",
    "- data (a table workspace) is saved to a Nexus file with SaveNexus.  \n",
    "\n",
    "There's a default database for every instrument. The GPSANS location for the metadata JSON file:\n",
    "\n",
    "- GPSANS: <b>/HFIR/CG2/shared/calibration/pixel_calibration.json</b>\n",
    "\n",
    "Data tables are saved under `tables/` subdirectory:\n",
    "\n",
    "- GPSANS: <b>/HFIR/CG2/shared/calibration/tables</b>\n",
    "\n",
    "<h5>Calibration objects have method \"<b>save</b>\" to save itself to the the database. The full signature of this method:</h5>\n",
    "\n",
    "    def save(self, database=None, tablefile=None, overwrite=False):\n",
    "        r\"\"\"\n",
    "        Save the calibration metadata in a JSON file, and the calibration table workspace in a Nexus file.\n",
    "\n",
    "        Parameters\n",
    "        ----------\n",
    "        database: str\n",
    "            Path to the JSON file where the ```metadata``` dictionary will be appended. If :py:obj:`None`,\n",
    "            then the appropriate default file from ~drtsans.pixel_calibration.database_file is used.\n",
    "            Currently, these are the default files:\n",
    "            - BIOSANS, '/HFIR/CG3/shared/calibration/pixel_calibration.json',\n",
    "            - EQSANS, '/SNS/EQSANS/shared/calibration/pixel_calibration.json',\n",
    "            - GPSANS, '/HFIR/CG2/shared/calibration/pixel_calibration.json'\n",
    "        tablefile: str\n",
    "            Path to the Nexus file storing the pixel calibration data. If :py:obj:`None`, then\n",
    "            a composite name is created using the calibration type, instrument, component,\n",
    "            and daystamp. (e.g. \"barscan_gpsans_detector1_20200311\"). The file is saved under\n",
    "            subdirectory 'tables', located within the directory of the ```database``` file.\n",
    "            For instance, '/HFIR/CG3/shared/calibration/tables/barscan_gpsans_detector1_20200311.nxs'\n",
    "        overwrite: bool\n",
    "            Substitute existing entry with same metadata\n",
    "\n",
    "        Raises\n",
    "        ------\n",
    "        ValueError\n",
    "            If we save a calibration already in the database with option ```overwrite=False```.\n",
    "        \"\"\""
   ]
  },
  {
   "cell_type": "code",
   "execution_count": null,
   "metadata": {},
   "outputs": [],
   "source": [
    "# Notice we overwrite the already saved calibration, which will happen if we run this notebook more than once.\n",
    "calibration.save(overwrite=True)"
   ]
  },
  {
   "cell_type": "markdown",
   "metadata": {},
   "source": [
    "<h3>Load and Apply a Barscan Calibration</h3>\n",
    "\n",
    "Most relevant function is [load_calibration](http://docs.drt-sans.ornl.gov/drtsans/pixel_calibration.html#drtsans.pixel_calibration.load_calibration)"
   ]
  },
  {
   "cell_type": "code",
   "execution_count": null,
   "metadata": {},
   "outputs": [],
   "source": [
    "import os\n",
    "from mantid.simpleapi import LoadNexus\n",
    "from drtsans.pixel_calibration import load_calibration\n",
    "\n",
    "# \"plot_workspace\" is a utility function, which we will use a couple of times\n",
    "from drtsans.plots import plot_detector\n",
    "def plot_workspace(input_workspace, axes_mode='tube-pixel'):\n",
    "    return plot_detector(input_workspace, backend='mpl',axes_mode=axes_mode, imshow_kwargs={})"
   ]
  },
  {
   "cell_type": "markdown",
   "metadata": {},
   "source": [
    "Below we load the run to which we will apply the calibration. It is one of the scans, with the bar positioned past the middle of the detector.  \n",
    "We take a look by plotting the pixel intensities on the main detector."
   ]
  },
  {
   "cell_type": "code",
   "execution_count": null,
   "metadata": {},
   "outputs": [],
   "source": [
    "# Load the run to which we will apply the calibration\n",
    "data_dir = '/HFIR/CG2/shared/sans-backend/data/new/ornl/sans/hfir/gpsans/pixel_calibration'\n",
    "LoadNexus(os.path.join(data_dir, 'scan_88.nxs'), OutputWorkspace='scan_88')\n",
    "\n",
    "plot_detector('scan_88', axes_mode='xy')"
   ]
  },
  {
   "cell_type": "markdown",
   "metadata": {},
   "source": [
    "Notice in the previous plot some spikes in the shadow cast by the bar. The spikes indicate tubes that need badly to be calibrated."
   ]
  },
  {
   "cell_type": "markdown",
   "metadata": {},
   "source": [
    "Loading a calibration with [load_calibration](http://docs.drt-sans.ornl.gov/drtsans/pixel_calibration.html#drtsans.pixel_calibration.load_calibration) requires at least a target workspace and the type of calibration to be loaded. This functions return a calibration object.\n",
    "\n",
    "The calibration object has method <b>apply</b> to apply itself into a target workspace. Here's the full documentation for this method:\n",
    "\n",
    "    def apply(self, input_workspace, output_workspace=None):\n",
    "        r\"\"\"\n",
    "        Apply a calibration to an input workspace, and return the calibrated workspace.\n",
    "\n",
    "        Parameters\n",
    "        ----------\n",
    "        input_workspace: str, ~mantid.api.MatrixWorkspace, ~mantid.api.IEventsWorkspace\n",
    "            Workspace to which calibration needs to be applied.\n",
    "        output_workspace: str\n",
    "            Name of the output workspace with calibrated pixels. If :py:obj:`None`, the pixels\n",
    "            of the input workspace will be calibrated and no new workspace is generated.\n",
    "\n",
    "        Returns\n",
    "        -------\n",
    "        ~mantid.api.MatrixWorkspace, ~mantid.api.IEventsWorkspace\n",
    "        \"\"\""
   ]
  },
  {
   "cell_type": "code",
   "execution_count": null,
   "metadata": {},
   "outputs": [],
   "source": [
    "calibration = load_calibration('scan_88', 'BARSCAN')\n",
    "# Apply the calibration.\n",
    "start_time = time.time()\n",
    "calibration.apply('scan_88')\n",
    "print(f'Applying the calibration took {time.time() - start_time:.1} seconds')"
   ]
  },
  {
   "cell_type": "markdown",
   "metadata": {},
   "source": [
    "Again we plot the pixel intensities on the main detector and visually compare to the previous plot."
   ]
  },
  {
   "cell_type": "code",
   "execution_count": null,
   "metadata": {},
   "outputs": [],
   "source": [
    "plot_detector('scan_88', axes_mode='xy')"
   ]
  },
  {
   "cell_type": "markdown",
   "metadata": {},
   "source": [
    "In the calibrated workpace, the shadow spikes have been considerably supressed."
   ]
  },
  {
   "cell_type": "markdown",
   "metadata": {},
   "source": [
    "<h3>Calculate Tube Width Calibration</h3>\n",
    "\n",
    "Relevant function is [calculate_apparent_tube_width](http://docs.drt-sans.ornl.gov/drtsans/pixel_calibration.html#drtsans.pixel_calibration.calculate_apparent_tube_width)"
   ]
  },
  {
   "cell_type": "code",
   "execution_count": null,
   "metadata": {},
   "outputs": [],
   "source": [
    "from mantid.simpleapi import LoadEventNexus, Rebin\n",
    "from drtsans.pixel_calibration import calculate_apparent_tube_width\n",
    "\n",
    "#\n",
    "# \"plot_workspace\" is a utility function, which we will use a couple of times\n",
    "#\n",
    "from drtsans.plots import plot_detector\n",
    "def plot_workspace(input_workspace, axes_mode='tube-pixel'):\n",
    "    return plot_detector(input_workspace, backend='mpl',axes_mode=axes_mode, imshow_kwargs={})"
   ]
  },
  {
   "cell_type": "markdown",
   "metadata": {},
   "source": [
    "The flood file CG2_8143.nxs.h5 is 1.6GB in size. We don't need the events, but only the total intensity per pixel, so we convert to a matrix workspace and keep only one bin."
   ]
  },
  {
   "cell_type": "code",
   "execution_count": null,
   "metadata": {},
   "outputs": [],
   "source": [
    "flood_file = '/HFIR/CG2/IPTS-23801/nexus/CG2_8143.nxs.h5'\n",
    "LoadEventNexus(Filename='/HFIR/CG2/IPTS-23801/nexus/CG2_8143.nxs.h5', OutputWorkspace='flood_workspace')\n",
    "# Rebins all events between TOF=0 and TOF=10^6 micro-seconds into a single bin\n",
    "Rebin(InputWorkspace='flood_workspace', OutputWorkspace='flood_workspace',\n",
    "      Params=[0, 1.E06, 1.E06], PreserveEvents=False)\n",
    "\n",
    "plot_workspace('flood_workspace')"
   ]
  },
  {
   "cell_type": "markdown",
   "metadata": {},
   "source": [
    "Ideally, calculation of the apparent tube width requires that the pixel positions and heights have been calibrated with a barscan. If no good barscan is present in the database, we can use the default pixel positions and heights defined in the instrument defintion file by setting <code>load_barscan_calibration=False</code>"
   ]
  },
  {
   "cell_type": "code",
   "execution_count": null,
   "metadata": {},
   "outputs": [],
   "source": [
    "start_time = time.time()\n",
    "calibration = calculate_apparent_tube_width('flood_workspace')\n",
    "print('Calibration took ', int(time.time() - start_time), 'seconds')"
   ]
  },
  {
   "cell_type": "markdown",
   "metadata": {},
   "source": [
    "<h5>Calibration objects are saved to a database as two separate pieces:</h5>\n",
    "\n",
    "- metadata (instrument name, day stamp, name of the double-detector-array) is save to a JSON file.  \n",
    "- data (a table workspace) is saved to a Nexus file with SaveNexus.  \n",
    "\n",
    "There's a default database for every instrument. The GPSANS location for the metadata JSON file:\n",
    "\n",
    "- GPSANS: <b>/HFIR/CG2/shared/calibration/pixel_calibration.json</b>\n",
    "\n",
    "Data tables are saved under `tables/` subdirectory:\n",
    "\n",
    "- GPSANS: <b>/HFIR/CG2/shared/calibration/tables</b>\n",
    "\n",
    "<h5>Calibration objects have method \"<b>save</b>\" to save itself to the the database. The full signature of this method:</h5>\n",
    "\n",
    "    def save(self, database=None, tablefile=None, overwrite=False):\n",
    "        r\"\"\"\n",
    "        Save the calibration metadata in a JSON file, and the calibration table workspace in a Nexus file.\n",
    "\n",
    "        Parameters\n",
    "        ----------\n",
    "        database: str\n",
    "            Path to the JSON file where the ```metadata``` dictionary will be appended. If :py:obj:`None`,\n",
    "            then the appropriate default file from ~drtsans.pixel_calibration.database_file is used.\n",
    "            Currently, these are the default files:\n",
    "            - BIOSANS, '/HFIR/CG3/shared/calibration/pixel_calibration.json',\n",
    "            - EQSANS, '/SNS/EQSANS/shared/calibration/pixel_calibration.json',\n",
    "            - GPSANS, '/HFIR/CG2/shared/calibration/pixel_calibration.json'\n",
    "        tablefile: str\n",
    "            Path to the Nexus file storing the pixel calibration data. If :py:obj:`None`, then\n",
    "            a composite name is created using the calibration type, instrument, component,\n",
    "            and daystamp. (e.g. \"barscan_gpsans_detector1_20200311\"). The file is saved under\n",
    "            subdirectory 'tables', located within the directory of the ```database``` file.\n",
    "            For instance, '/HFIR/CG3/shared/calibration/tables/barscan_gpsans_detector1_20200311.nxs'\n",
    "        overwrite: bool\n",
    "            Substitute existing entry with same metadata\n",
    "\n",
    "        Raises\n",
    "        ------\n",
    "        ValueError\n",
    "            If we save a calibration already in the database with option ```overwrite=False```.\n",
    "        \"\"\""
   ]
  },
  {
   "cell_type": "code",
   "execution_count": null,
   "metadata": {},
   "outputs": [],
   "source": [
    "# Notice we overwrite the already saved calibration, which will happen if we run this notebook more than once.\n",
    "calibration.save(overwrite=True)"
   ]
  },
  {
   "cell_type": "markdown",
   "metadata": {},
   "source": [
    "<h3>Load and Apply a Tube Width Calibration</h3>\n",
    "\n",
    "First some general imports and a couple of custom plotting functions"
   ]
  },
  {
   "cell_type": "code",
   "execution_count": null,
   "metadata": {},
   "outputs": [],
   "source": [
    "from mantid.api import mtd\n",
    "from mantid.simpleapi import CreateWorkspace, LoadNexus\n",
    "from drtsans.tubecollection import TubeCollection\n",
    "\n",
    "#\n",
    "# \"plot_workspace\" is a utility function, which we will use a couple of times\n",
    "#\n",
    "from drtsans.plots import plot_detector\n",
    "def plot_workspace(input_workspace, axes_mode='tube-pixel'):\n",
    "    return plot_detector(input_workspace, backend='mpl',axes_mode=axes_mode, imshow_kwargs={})\n",
    "\n",
    "#\n",
    "# \"plot_histograms\" to create fancy plots of the spectram stored in an input workspace\n",
    "#\n",
    "def plot_histograms(input_workspace, legend=[], xlabel='X-axis', ylabel='Y-axis', title='', linewidths=[]):\n",
    "    r\"\"\"Line plot for the histograms of a workspace\"\"\"\n",
    "    workspace = mtd[str(input_workspace)]\n",
    "    number_histograms = workspace.getNumberHistograms()\n",
    "    if len(legend) != number_histograms:\n",
    "        legend = [str(i) for i in range(number_histograms)]\n",
    "    if len(linewidths) != number_histograms:\n",
    "        linewidths = [1] * number_histograms\n",
    "    fig, ax = plt.subplots(subplot_kw={'projection':'mantid'})\n",
    "    for workspace_index in range(number_histograms):\n",
    "        ax.plot(workspace, wkspIndex=workspace_index, label=legend[workspace_index],\n",
    "                linewidth=linewidths[workspace_index])\n",
    "    ax.legend()\n",
    "    ax.set_xlabel(xlabel)\n",
    "    ax.set_ylabel(ylabel)\n",
    "    ax.set_title(title)\n",
    "    ax.tick_params(axis='x', direction='in')\n",
    "    ax.tick_params(axis='y', direction='out')\n",
    "    ax.grid(True)\n",
    "    fig.show()"
   ]
  },
  {
   "cell_type": "code",
   "execution_count": null,
   "metadata": {},
   "outputs": [],
   "source": [
    "# Load the run to which we will apply the calibration, then plot the pixel intensities\n",
    "input_data = '/HFIR/CG2/IPTS-23801/nexus/CG2_8143.nxs.h5'\n",
    "LoadEventNexus(Filename='/HFIR/CG2/IPTS-23801/nexus/CG2_8143.nxs.h5', OutputWorkspace='workspace')\n",
    "\n",
    "plot_workspace('workspace', axes_mode='xy')"
   ]
  },
  {
   "cell_type": "markdown",
   "metadata": {},
   "source": [
    "The run corresponds to a flood run."
   ]
  },
  {
   "cell_type": "markdown",
   "metadata": {},
   "source": [
    "<h4>Intensities Normalized by Pixel Width</h4>\n",
    "In function <code>linear_density</code> we integrate the total intensity per tube and divide by the tube width. Front end tubes collect more intentity than the back tubes. Similarly, front end tubes have a larger apparent tube width than back tubes. The ratio of total intensity to width should be similar for front and end tubes after the calibration."
   ]
  },
  {
   "cell_type": "code",
   "execution_count": null,
   "metadata": {},
   "outputs": [],
   "source": [
    "def linear_density(workspace):\n",
    "    r\"\"\"Tube total intensity per unit length of tube width\"\"\"\n",
    "    collection = TubeCollection(workspace, 'detector1').sorted(view='decreasing X')\n",
    "    intensities = np.array([np.sum(tube.readY) for tube in collection])\n",
    "    widths = np.array([tube[0].width for tube in collection])\n",
    "    return list(intensities / widths)\n",
    "\n",
    "uncalibrated_densities = linear_density('workspace')"
   ]
  },
  {
   "cell_type": "markdown",
   "metadata": {},
   "source": [
    "We store both linear densities in a workspace, and then we'll use matplotlib to plot both densities"
   ]
  },
  {
   "cell_type": "code",
   "execution_count": null,
   "metadata": {},
   "outputs": [],
   "source": [
    "start_time = time.time()\n",
    "calibration.apply('workspace')\n",
    "print('Applying the calibration took ', time.time() - start_time, 'seconds')\n",
    "\n",
    "calibrated_densities = linear_density('workspace')"
   ]
  },
  {
   "cell_type": "markdown",
   "metadata": {},
   "source": [
    "We store both linear densities in a workspace, and then we'll use matplotlib to plot both densities"
   ]
  },
  {
   "cell_type": "code",
   "execution_count": null,
   "metadata": {},
   "outputs": [],
   "source": [
    "number_tubes = len(uncalibrated_densities)\n",
    "CreateWorkspace(DataX=range(number_tubes),\n",
    "                DataY=np.array([uncalibrated_densities, calibrated_densities]),\n",
    "                NSpec=2,   # two histograms\n",
    "                Outputworkspace='linear_densities')\n",
    "plot_histograms('linear_densities',\n",
    "                legend=['no calibration', 'calibrated'],\n",
    "                xlabel='Tube Index', ylabel='Intensity', linewidths=[3, 1])"
   ]
  },
  {
   "cell_type": "markdown",
   "metadata": {},
   "source": [
    "The oslillating intensities in the linear densities have been suppresed for most tubes, indicating the calibration is working."
   ]
  },
  {
   "cell_type": "markdown",
   "metadata": {},
   "source": [
    "<h3>Loading and Applying a pixel calibration</h3>\n",
    "\n",
    "Relevant function is [apply_calibrations](http://docs.drt-sans.ornl.gov/drtsans/pixel_calibration.html#drtsans.pixel_calibration.apply_calibrations), which will search for <code>BARSCAN</code> and <code>TUBEWIDTH</code> calibrations appropriate to the target run"
   ]
  },
  {
   "cell_type": "code",
   "execution_count": null,
   "metadata": {},
   "outputs": [],
   "source": [
    "import time\n",
    "from mantid.simpleapi import LoadEventNexus\n",
    "from drtsans.pixel_calibration import apply_calibrations\n",
    "\n",
    "#\n",
    "# \"plot_workspace\" is a utility function, which we will use a couple of times\n",
    "#\n",
    "from drtsans.plots import plot_detector\n",
    "def plot_workspace(input_workspace, axes_mode='tube-pixel'):\n",
    "    return plot_detector(input_workspace, backend='mpl',axes_mode=axes_mode, imshow_kwargs={})"
   ]
  },
  {
   "cell_type": "code",
   "execution_count": null,
   "metadata": {},
   "outputs": [],
   "source": [
    "# Load the run to which we will apply the calibration, then plot the pixel intensities\n",
    "input_data = '/HFIR/CG2/IPTS-23801/nexus/CG2_8143.nxs.h5'\n",
    "LoadEventNexus(Filename='/HFIR/CG2/IPTS-23801/nexus/CG2_8143.nxs.h5', OutputWorkspace='workspace')\n",
    "\n",
    "plot_workspace('workspace', axes_mode='xy')"
   ]
  },
  {
   "cell_type": "code",
   "execution_count": null,
   "metadata": {},
   "outputs": [],
   "source": [
    "start_time = time.time()\n",
    "apply_calibrations('workspace')\n",
    "print('Applying the calibration took ', time.time() - start_time, 'seconds')"
   ]
  },
  {
   "cell_type": "code",
   "execution_count": null,
   "metadata": {},
   "outputs": [],
   "source": [
    "plot_workspace('workspace', axes_mode='xy')"
   ]
  },
  {
   "cell_type": "markdown",
   "metadata": {},
   "source": [
    "The calibration makes things worse, but this is because the barscan that determined the calibration was taken at a time when the tubes behaved quite differently that the time when the input data was taken. This is a clear sign that <b>a new barscan is needed</b>.\n",
    "\n",
    "We can see when the BARSCAN calibration was taken, and the time when the input data was taken. For this we use function [load_calibration](http://docs.drt-sans.ornl.gov/drtsans/pixel_calibration.html#drtsans.pixel_calibration.load_calibration) and function <code>day_stamp</code>."
   ]
  },
  {
   "cell_type": "code",
   "execution_count": null,
   "metadata": {},
   "outputs": [],
   "source": [
    "from drtsans.pixel_calibration import load_calibration, day_stamp\n",
    "calibration = load_calibration('workspace', 'BARSCAN')\n",
    "print('BARSCAN taken on', calibration.daystamp)\n",
    "print('Input data taken on ', day_stamp('workspace'))"
   ]
  },
  {
   "cell_type": "code",
   "execution_count": null,
   "metadata": {},
   "outputs": [],
   "source": []
  }
 ],
 "metadata": {
  "kernelspec": {
   "display_name": "Python 3",
   "language": "python",
   "name": "python3"
  },
  "language_info": {
   "codemirror_mode": {
    "name": "ipython",
    "version": 3
   },
   "file_extension": ".py",
   "mimetype": "text/x-python",
   "name": "python",
   "nbconvert_exporter": "python",
   "pygments_lexer": "ipython3",
   "version": "3.6.8"
  },
  "toc": {
   "base_numbering": 1,
   "nav_menu": {},
   "number_sections": true,
   "sideBar": true,
   "skip_h1_title": false,
   "title_cell": "Table of Contents",
   "title_sidebar": "Contents",
   "toc_cell": false,
   "toc_position": {},
   "toc_section_display": true,
   "toc_window_display": false
  }
 },
 "nbformat": 4,
 "nbformat_minor": 2
}
