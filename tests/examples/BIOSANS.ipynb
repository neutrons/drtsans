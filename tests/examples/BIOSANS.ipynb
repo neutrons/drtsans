{
 "cells": [
  {
   "cell_type": "markdown",
   "metadata": {},
   "source": [
    "# I(Q) calculation"
   ]
  },
  {
   "cell_type": "code",
   "execution_count": null,
   "metadata": {},
   "outputs": [],
   "source": [
    "import os\n",
    "import numpy as np\n",
    "import scipy.stats\n",
    "import matplotlib.pyplot as plt\n",
    "%matplotlib notebook\n",
    "\n",
    "import warnings\n",
    "warnings.filterwarnings('ignore', module='numpy')\n",
    "warnings.filterwarnings('ignore')"
   ]
  },
  {
   "cell_type": "code",
   "execution_count": null,
   "metadata": {},
   "outputs": [],
   "source": [
    "from mantid.simpleapi import mtd\n",
    "from mantid import simpleapi as api\n",
    "#from reduction_workflow.instruments.sans.sns_command_interface import *"
   ]
  },
  {
   "cell_type": "code",
   "execution_count": null,
   "metadata": {},
   "outputs": [],
   "source": [
    "from drtsans.mono import biosans\n",
    "from collections import namedtuple\n",
    "import drtsans"
   ]
  },
  {
   "cell_type": "markdown",
   "metadata": {},
   "source": [
    "# Reduction options\n",
    "\n",
    "- Direct beam @ 7m: r815\n",
    "- Flood H20 @ 7m:  r821\n",
    "- Dark current: r795"
   ]
  },
  {
   "cell_type": "code",
   "execution_count": null,
   "metadata": {},
   "outputs": [],
   "source": [
    "config = dict(sample_offset=0, # 340\n",
    "              detector_offset=0,\n",
    "              dark_current=\"/HFIR/CG3/IPTS-23782/nexus/CG3_795.nxs.h5\",\n",
    "              flood=\"/HFIR/CG3/IPTS-23782/nexus/CG3_821.nxs.h5\",\n",
    "              prepared_flood = '/HFIR/CG3/IPTS-23782/shared/CG3_flood_821.h5',\n",
    "             )\n",
    "\n",
    "mask_file = \"/SNS/users/m2d/git/analysis_playground/eqsans/notebooks/data/EQSANS_104088_mask.xml\"\n",
    "mask_nxs = \"/SNS/users/m2d/git/analysis_playground/eqsans/notebooks/data/EQSANS_104088_mask.nxs\""
   ]
  },
  {
   "cell_type": "code",
   "execution_count": null,
   "metadata": {},
   "outputs": [],
   "source": [
    "def load_data(filename, mask_wing=True, center_x=None, center_y=None, center_y_wing=None, output_workspace=None):\n",
    "    ws = api.LoadEventNexus(Filename=filename, OutputWorkspace=output_workspace)\n",
    "    ws = api.HFIRSANS2Wavelength(ws, OutputWorkspace=output_workspace)\n",
    "    api.LoadInstrument(Workspace=ws,\n",
    "                   Filename='/SNS/users/3y9/Desktop/BIOSANS-commisioning/BIOSANS_Definition_2019_2100.xml',\n",
    "                   RewriteSpectraMap='True')\n",
    "\n",
    "    # Mask wing\n",
    "    if mask_wing:\n",
    "        api.MaskDetectors(ws, ComponentList='wing_detector')\n",
    "        \n",
    "    if center_x is not None and center_y is not None and center_y_wing is not None:\n",
    "        biosans.center_detector(ws, center_x=center_x, center_y=center_y, center_y_wing=center_y_wing)\n",
    "\n",
    "    return ws"
   ]
  },
  {
   "cell_type": "code",
   "execution_count": null,
   "metadata": {},
   "outputs": [],
   "source": [
    "#ws = load_data(\"/HFIR/CG3/IPTS-23782/nexus/CG3_957.nxs.h5\")\n",
    "def plot_det(ws):\n",
    "    nx = 192\n",
    "    ny = 256\n",
    "    pixel_x = 5.5\n",
    "    pixel_y = 4.297\n",
    "\n",
    "    # Wavelengths\n",
    "    bounds_wl = ws.readX(0)\n",
    "    wl = 0.5 * (bounds_wl[1:] + bounds_wl[:-1])\n",
    "\n",
    "    data = ws.extractY()[0:49152]\n",
    "    err = ws.extractE()[0:49152]\n",
    "\n",
    "    print(data.shape)\n",
    "\n",
    "    counts = data.reshape((nx,ny,len(wl)))\n",
    "    d_counts = err.reshape((nx,ny,len(wl)))\n",
    "    _counts = np.sum(counts, axis=2)\n",
    "\n",
    "    print(counts.shape)\n",
    "    print(counts[:,:,0].shape)\n",
    "    plt.figure()\n",
    "    plt.pcolor(_counts.T)"
   ]
  },
  {
   "cell_type": "markdown",
   "metadata": {},
   "source": [
    "# Find beam center"
   ]
  },
  {
   "cell_type": "code",
   "execution_count": null,
   "metadata": {},
   "outputs": [],
   "source": [
    "# The new way of dealing with the beam center is in real space, relative to the center of the detector.\n",
    "# The EQSANS detector is 192 x 256 pixels, and the pixel sizes are 5.5 mm x 4.3 mm\n",
    "x_center, y_center = [-0.01230061, -0.0351677 ]\n",
    "beam_center_drt = (-0.012300612863652916, -0.035167700781957245, -0.034614155228279528)\n",
    "\n",
    "print(\"Old reduction's beam center in real space: %g %g\" % (x_center, y_center))\n",
    "\n",
    "db_ws = load_data(\"/HFIR/CG3/IPTS-23782/nexus/CG3_815.nxs.h5\", output_workspace='beam')\n",
    "\n",
    "center = biosans.find_beam_center(db_ws)\n",
    "\n",
    "print(\"Beam center found: %g %g %g\" % (center[0], center[1], center[2]))\n",
    "\n",
    "config['center_x'] = center[0]\n",
    "config['center_y'] = center[1]\n",
    "config['center_y_wing'] = center[2]"
   ]
  },
  {
   "cell_type": "markdown",
   "metadata": {},
   "source": [
    "# Sensitivity"
   ]
  },
  {
   "cell_type": "code",
   "execution_count": null,
   "metadata": {},
   "outputs": [],
   "source": [
    "flood_ws = load_data(config['flood'],\n",
    "                     center_x=config['center_x'],\n",
    "                     center_y=config['center_y'],\n",
    "                     center_y_wing=config['center_y_wing'],\n",
    "                     output_workspace='CG3_flood')\n",
    "drtsans.calculate_sensitivity_correction(flood_ws, \n",
    "                                         filename='/HFIR/CG3/IPTS-23782/shared/CG3_flood_821.h5',\n",
    "                                         output_workspace='CG3_sensitivity')\n",
    "config['prepared_flood'] = '/HFIR/CG3/IPTS-23782/shared/CG3_flood_821.h5'"
   ]
  },
  {
   "cell_type": "markdown",
   "metadata": {},
   "source": [
    "# AgBeh"
   ]
  },
  {
   "cell_type": "code",
   "execution_count": null,
   "metadata": {},
   "outputs": [],
   "source": [
    "%%time\n",
    "ws = load_data(\"/HFIR/CG3/IPTS-23782/nexus/CG3_957.nxs.h5\",\n",
    "               center_x=config['center_x'],\n",
    "               center_y=config['center_y'],\n",
    "               center_y_wing=config['center_y_wing'],\n",
    "               output_workspace='CG3_957')\n",
    "\n",
    "# Dark current\n",
    "dark_ws = load_data(config['dark_current'],\n",
    "                    center_x=config['center_x'],\n",
    "                    center_y=config['center_y'],\n",
    "                    center_y_wing=config['center_y_wing'],\n",
    "                    output_workspace='CG3_dark')\n",
    "biosans.subtract_dark_current(ws, dark_ws)\n",
    "\n",
    "# Normalization\n",
    "biosans.normalize_by_time(ws)\n",
    "\n",
    "# Solid angle\n",
    "#biosans.solid_angle_correction(ws)\n",
    "\n",
    "# Sensitivity\n",
    "drtsans.apply_sensitivity_correction(ws, sensitivity_filename=config['prepared_flood'])\n",
    "\n",
    "# Transmission\n",
    "\n",
    "# Background\n",
    "\n",
    "# Save output\n",
    "#api.SaveNexus(InputWorkspace=ws, Filename=\"/HFIR/CG3/IPTS-23782/shared/CG3_reduced_957.hf5\")"
   ]
  },
  {
   "cell_type": "code",
   "execution_count": null,
   "metadata": {},
   "outputs": [],
   "source": [
    "BinningParams = namedtuple('BinningParams', 'min max bins')\n",
    "\n",
    "q_data = drtsans.convert_to_q(ws, mode='scalar')\n",
    "\n",
    "iq_output = biosans.bin_intensity_into_q1d(q_data, bin_params=BinningParams(min=0.001, max=0.25, bins=200),\n",
    "                               linear_binning=False)#, bin_method=1)\n",
    "\n",
    "print(iq_output.wavelength)\n",
    "fig, ax = plt.subplots()\n",
    "ax.errorbar(iq_output.mod_q, iq_output.intensity, yerr=iq_output.error, label=\"AgBeh\")\n"
   ]
  },
  {
   "cell_type": "code",
   "execution_count": null,
   "metadata": {},
   "outputs": [],
   "source": [
    "plot_det(ws)"
   ]
  }
 ],
 "metadata": {
  "kernelspec": {
   "display_name": "sans at jnrk-sns-analysis",
   "language": "python",
   "name": "jnrk-sns-analysis-sans"
  },
  "language_info": {
   "codemirror_mode": {
    "name": "ipython",
    "version": 3
   },
   "file_extension": ".py",
   "mimetype": "text/x-python",
   "name": "python",
   "nbconvert_exporter": "python",
   "pygments_lexer": "ipython3",
   "version": "3.6.7"
  }
 },
 "nbformat": 4,
 "nbformat_minor": 2
}
