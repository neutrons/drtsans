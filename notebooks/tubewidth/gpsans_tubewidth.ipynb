{
 "cells": [
  {
   "cell_type": "markdown",
   "metadata": {},
   "source": [
    "<h3>General Imports</h3>"
   ]
  },
  {
   "cell_type": "code",
   "execution_count": 13,
   "metadata": {},
   "outputs": [],
   "source": [
    "import os\n",
    "import sys\n",
    "import time\n",
    "sys.path.append('/home/jbq/repositories/sans-backend/sans-backend2')\n",
    "# Mantid imports\n",
    "from mantid.simpleapi import LoadEventNexus, Rebin, CreateWorkspace\n",
    "\n",
    "# drtsans imports\n",
    "from drtsans.pixel_calibration import calculate_apparent_tube_width, load_calibration, as_intensities\n",
    "from drtsans.tubecollection import TubeCollection"
   ]
  },
  {
   "cell_type": "code",
   "execution_count": 3,
   "metadata": {},
   "outputs": [],
   "source": [
    "# \"plot_detector\" is a utility plotting function that we will use a couple of times\n",
    "%matplotlib notebook\n",
    "from drtsans.plots import plot_detector\n",
    "def plot_detector(input_workspace, axes_mode='tube-pixel', panel_name='detector1'):\n",
    "    return plot_detector(input_workspace, backend='mpl',axes_mode=axes_mode,\n",
    "                         panel_name=panel_name, imshow_kwargs={})"
   ]
  },
  {
   "cell_type": "markdown",
   "metadata": {},
   "source": [
    "<h3>Dataset</h3>\n",
    "\n",
    "The flood file is an event nexus file 1.6GB in size. We don't need the events, but only the total intensity per pixel, so we convert to a matrix workspace and keep only one bin."
   ]
  },
  {
   "cell_type": "code",
   "execution_count": 4,
   "metadata": {},
   "outputs": [
    {
     "data": {
      "text/plain": [
       "Workspace2D\n",
       "Title: Flood_center\n",
       "Histograms: 49152\n",
       "Bins: 1\n",
       "Histogram\n",
       "X axis: Time-of-flight / microsecond\n",
       "Y axis: Counts\n",
       "Distribution: False\n",
       "Instrument: CG2 (2019-Oct-01 to 2100-Dec-31)Instrument from: /HFIR/CG2/IPTS-23801/nexus/CG2_8143.nxs.h5\n",
       "\n",
       "Parameters from: /home/jbq/repositories/mantidproject/mantid0/instrument/CG2_Parameters.xml\n",
       "Run start: 2020-Jan-30 23:03:03\n",
       "Run end:  2020-Jan-31 01:03:03"
      ]
     },
     "execution_count": 4,
     "metadata": {},
     "output_type": "execute_result"
    }
   ],
   "source": [
    "LoadEventNexus(Filename='/HFIR/CG2/IPTS-23801/nexus/CG2_8143.nxs.h5', OutputWorkspace='flood_workspace')\n",
    "Rebin(InputWorkspace='flood_workspace', OutputWorkspace='flood_workspace',\n",
    "      Params=[0, 1.E06, 1.E06], PreserveEvents=False)"
   ]
  },
  {
   "cell_type": "markdown",
   "metadata": {},
   "source": [
    "<h3>Calibration</h3>\n",
    "We carry out the calibration and apply it to the flood file to adjust for tube width, saving to a different file for comparison of workspaces before and after the calibration."
   ]
  },
  {
   "cell_type": "code",
   "execution_count": 8,
   "metadata": {},
   "outputs": [
    {
     "name": "stdout",
     "output_type": "stream",
     "text": [
      "Calibration took  43 seconds\n"
     ]
    },
    {
     "data": {
      "text/plain": [
       "Workspace2D\n",
       "Title: Flood_center\n",
       "Histograms: 49152\n",
       "Bins: 1\n",
       "Histogram\n",
       "X axis: Time-of-flight / microsecond\n",
       "Y axis: Counts\n",
       "Distribution: False\n",
       "Instrument: CG2 (2019-Oct-01 to 2100-Dec-31)Instrument from: /HFIR/CG2/IPTS-23801/nexus/CG2_8143.nxs.h5\n",
       "\n",
       "Parameters from: /home/jbq/repositories/mantidproject/mantid0/instrument/CG2_Parameters.xml\n",
       "Run start: 2020-Jan-30 23:03:03\n",
       "Run end:  2020-Jan-31 01:03:03"
      ]
     },
     "execution_count": 8,
     "metadata": {},
     "output_type": "execute_result"
    }
   ],
   "source": [
    "start_time = time.time()\n",
    "calibration = calculate_apparent_tube_width('flood_workspace', load_barscan_calibration=False)\n",
    "print('Calibration took ', int(time.time() - start_time), 'seconds')\n",
    "calibration.apply('flood_workspace', output_workspace='calibrated_workspace')"
   ]
  },
  {
   "cell_type": "markdown",
   "metadata": {},
   "source": [
    "<h3>Intensities Normalized by Pixel Width</h3>\n",
    "In function $linear_density$ we integrate the total intensity per tube and divide by the tube width. Front end tubes collect more intentity than the back tubes. Similarly, front end tubes have a larger apparent tube width than back tubes. The ratio of total intensity to width should be similar for front and end tubes after the calibration."
   ]
  },
  {
   "cell_type": "code",
   "execution_count": 11,
   "metadata": {},
   "outputs": [],
   "source": [
    "def linear_density(workspace):\n",
    "    r\"\"\"Tube total intensity per unit length of tube width\"\"\"\n",
    "    collection = TubeCollection(workspace, 'detector1').sorted(view='decreasing X')\n",
    "    intensities = np.array([np.sum(tube.readY) for tube in collection])\n",
    "    widths = np.array([tube[0].width for tube in collection])\n",
    "    return list(intensities / widths)\n",
    "uncalibrated_densities = linear_density('flood_workspace')\n",
    "calibrated_densities = linear_density('calibrated_workspace')"
   ]
  },
  {
   "cell_type": "markdown",
   "metadata": {},
   "source": [
    "We store both linear densities in a workspace, and then we'll use matplotlib to plot both densities"
   ]
  },
  {
   "cell_type": "code",
   "execution_count": 14,
   "metadata": {},
   "outputs": [
    {
     "data": {
      "text/plain": [
       "Workspace2D\n",
       "Title: \n",
       "Histograms: 2\n",
       "Bins: 192\n",
       "Data points\n",
       "X axis:  / \n",
       "Y axis: \n",
       "Distribution: False\n",
       "Instrument: None\n",
       "Run start: not available\n",
       "Run end:  not available"
      ]
     },
     "execution_count": 14,
     "metadata": {},
     "output_type": "execute_result"
    }
   ],
   "source": [
    "number_tubes = len(uncalibrated_densities)\n",
    "CreateWorkspace(DataX=range(number_tubes),\n",
    "                DataY=np.array([uncalibrated_densities, calibrated_densities]),\n",
    "                NSpec=2,   # two histograms\n",
    "                Outputworkspace='linear_densities')"
   ]
  },
  {
   "cell_type": "markdown",
   "metadata": {},
   "source": [
    "<h3>Caveats</h3>\n",
    "As it turns out, the bar is not covering the last tube. We verify this by plotting the intensities on the wing detector for the middle scan.\n",
    "\n",
    "We have created a **mask file** whereby we mask the last tube. This flags this tube as faulty when performing the barscan calculations. **Average** pixel positions and heights will be used to estimate the calibration of this faulty tube."
   ]
  },
  {
   "cell_type": "code",
   "execution_count": null,
   "metadata": {},
   "outputs": [],
   "source": [
    "middle_scan_index = int((last_run - first_run) / 2)\n",
    "LoadEventNexus(barscan_files[middle_scan_index], OutputWorkspace='middle_scan')\n",
    "plot_wing_detector('middle_scan')\n",
    "mask_file = '/home/jbq/repositories/sans-backend/sans-backend2/notebooks/barscan/biosans_mask_bank88_tube4.xml'"
   ]
  },
  {
   "cell_type": "code",
   "execution_count": null,
   "metadata": {},
   "outputs": [],
   "source": [
    "# Carry out the calibration\n",
    "start_time = time.time()\n",
    "calibration = calculate_barscan_calibration(barscan_files[::3], component=detector_array,\n",
    "                                            formula=formula, mask=mask_file)\n",
    "print('Calibration took ', int((time.time() - start_time) / 60), 'minutes')"
   ]
  },
  {
   "cell_type": "markdown",
   "metadata": {},
   "source": [
    "<h3>Saving the Calibration</h3>\n",
    "There are default database files for each instrument when saving a calibration. For BIOSANS is <code>/HFIR/CG3/shared/calibration/pixel_calibration.json</code>. We don't want to mess with the official database so we save this calibration to a temporary database file."
   ]
  },
  {
   "cell_type": "code",
   "execution_count": null,
   "metadata": {},
   "outputs": [],
   "source": [
    "calibration.save(database='/HFIR/CG3/shared/tmp/calibration.json')"
   ]
  },
  {
   "cell_type": "markdown",
   "metadata": {},
   "source": [
    "<h3>Applying a Saved Calibration</h3>\n",
    "Next we use one of the barscan files as the target for our recently saved calibration.\n",
    "Notice that we are applying the calibration to our input workspace and saving the result to an output workspace. If you want to <b>overwrite</b> the input workspace, then omit the <code>output_workspace</code> argument."
   ]
  },
  {
   "cell_type": "code",
   "execution_count": null,
   "metadata": {
    "scrolled": true
   },
   "outputs": [],
   "source": [
    "LoadEventNexus(os.path.join(data_dir, f'CG3_895.nxs.h5'), OutputWorkspace='input_workspace')\n",
    "saved_calibration = load_calibration('input_workspace', 'BARSCAN', component='wing_detector',\n",
    "                                     database='/HFIR/CG3/shared/tmp/calibration.json')\n",
    "start_time = time.time()\n",
    "saved_calibration.apply('input_workspace', output_workspace='output_workspace')\n",
    "print('Applying the calibration took ', time.time() - start_time, 'seconds')"
   ]
  },
  {
   "cell_type": "markdown",
   "metadata": {},
   "source": [
    "<h3>Visualizing the Effects of the Calibration</h3>\n",
    "We plot intensities on the wing detector before and after the calibration. Notice we use argument <code>axes_mode='xy'</code> that instruct <code>plot_wing_detector</code> to plot intensities versus $X$ and $Y$ coordinates, instead of the default plotting. The default plotting is versus tube index and pixel index.\n",
    "\n",
    "Notice: generating the plots versus $X$ and $Y$ will take about a minute"
   ]
  },
  {
   "cell_type": "code",
   "execution_count": null,
   "metadata": {},
   "outputs": [],
   "source": [
    "plot_wing_detector('input_workspace', axes_mode='xy')  # before calibration\n",
    "plot_wing_detector('output_workspace', axes_mode='xy')  # after calibration"
   ]
  },
  {
   "cell_type": "markdown",
   "metadata": {},
   "source": [
    "If the calibration has worked, the bar should appear more **levelled** after the calibration.\n",
    "\n",
    "Also notice that all values of $X$ are negative, as the wing detector is standing on the negative side of the X-axis"
   ]
  },
  {
   "cell_type": "markdown",
   "metadata": {},
   "source": [
    "<h3>Viewing the Calibrated Positions and Heights</h3>\n",
    "We can retrieve the pixel positions and heights from the calibrated <code>output_workspace</code>. The cell below will take for each pixel its vertical position and store this value as the intensity value in workspace <code>views.positions</code>. Later we can color plot this workspace to view the assigned positions to each pixel. The same process is done for pixel heights.\n",
    "\n",
    "Again, extracting the ~50K positions and heights takes time."
   ]
  },
  {
   "cell_type": "code",
   "execution_count": null,
   "metadata": {},
   "outputs": [],
   "source": [
    "views = as_intensities('output_workspace', component='wing_detector')\n",
    "plot_wing_detector(views.positions)\n",
    "plot_wing_detector(views.heights)"
   ]
  }
 ],
 "metadata": {
  "kernelspec": {
   "display_name": "Python 3",
   "language": "python",
   "name": "python3"
  },
  "language_info": {
   "codemirror_mode": {
    "name": "ipython",
    "version": 3
   },
   "file_extension": ".py",
   "mimetype": "text/x-python",
   "name": "python",
   "nbconvert_exporter": "python",
   "pygments_lexer": "ipython3",
   "version": "3.6.9"
  },
  "toc": {
   "base_numbering": 1,
   "nav_menu": {},
   "number_sections": true,
   "sideBar": true,
   "skip_h1_title": false,
   "title_cell": "Table of Contents",
   "title_sidebar": "Contents",
   "toc_cell": false,
   "toc_position": {},
   "toc_section_display": true,
   "toc_window_display": false
  }
 },
 "nbformat": 4,
 "nbformat_minor": 2
}
