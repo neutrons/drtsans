{
 "cells": [
  {
   "cell_type": "markdown",
   "metadata": {},
   "source": [
    "<h3> Create and Save a Barscan Calibration for Main and Wing detector</h3>\n",
    "\n",
    "Most relevant function here is [calculate_barscan_calibration](http://docs.drt-sans.ornl.gov/drtsans/pixel_calibration.html#drtsans.pixel_calibration.calculate_barscan_calibration).\n",
    "\n",
    "The output of <code>calculate_barscan_calibration</code> outputs an object containing two parts: a <b>metadata</b> (instrument name, day stamp, name of the double-detector-array), and the proper calibration data, contained in a Mantid <b>table</b> object."
   ]
  },
  {
   "cell_type": "code",
   "execution_count": null,
   "metadata": {},
   "outputs": [],
   "source": [
    "import numpy as np\n",
    "import os\n",
    "import time\n",
    "from mantid.simpleapi import LoadNexus,LoadNexusProcessed, Integration, mtd\n",
    "from drtsans.mono.biosans import calculate_barscan_calibration, plot_detector\n",
    "from drtsans.mono.biosans.simulated_intensities import clone_component_intensities, insert_midrange_detector\n",
    "#\n",
    "# \"plot_main_detector\", \"plot_wing_detector\" and \"plot_midrange_detector\" are used to plot all detectors separately\n",
    "#\n",
    "%matplotlib inline\n",
    "def plot_main_detector(input_workspace, axes_mode='xy', panel_name='detector1'):\n",
    "    return plot_detector(input_workspace, backend='mpl',axes_mode=axes_mode,\n",
    "                         panel_name=panel_name, imshow_kwargs={})\n",
    "def plot_wing_detector(input_workspace, axes_mode='xy', panel_name='wing_detector'):\n",
    "    return plot_detector(input_workspace, backend='mpl',axes_mode=axes_mode,\n",
    "                         panel_name=panel_name, imshow_kwargs={})\n",
    "def plot_midrange_detector(input_workspace, axes_mode='xy', panel_name='midrange_detector'):\n",
    "    return plot_detector(input_workspace, backend='mpl',axes_mode=axes_mode,\n",
    "                         panel_name=panel_name, imshow_kwargs={})\n",
    "def plot_workspace(input_workspace, axes_mode='xy'):\n",
    "    return plot_detector(input_workspace, backend='mpl',axes_mode=axes_mode, imshow_kwargs={})"
   ]
  },
  {
   "cell_type": "markdown",
   "metadata": {},
   "source": [
    "The barscan files we'll use are runs 838 through 953. These runs have an embedded instrument incompatible with assumptions made by drtsans regarding the instrument definition file. I have loaded each file and overwritten the instrument with a newer version. After that I <b>integrated all events</b> in a given pixel into a single scalar representing the total number of counts. The processed data is saved onto files which are much quicker to load when calculating the calibration, and have an appropriate embedded file.\n",
    "\n",
    "The script that I used for this task is commented below. It takes a long time to run and it's not necessary to run it again."
   ]
  },
  {
   "cell_type": "code",
   "execution_count": null,
   "metadata": {},
   "outputs": [],
   "source": [
    "\"\"\"\n",
    "data_dir = '/HFIR/CG3/IPTS-23782/nexus/'\n",
    "first_run, last_run = 838, 953\n",
    "target_dir = '/HFIR/CG3/shared/sans-backend/data/new/ornl/sans/hfir/biosans/pixel_calibration/runs_838_953'\n",
    "\n",
    "for run in range(first_run, 1 + last_run):\n",
    "    print('remaining files to process = ', 953 - run)\n",
    "    file_path = os.path.join(data_dir, f'CG3_{run}.nxs.h5')\n",
    "    LoadEventAsWorkspace2D(file_path, OutputWorkspace='scan', LoadNexusInstrumentXML=False)\n",
    "    Rebin(InputWorkspace='scan', OutputWorkspace='scan', Params='0,100000,100000', PreserveEvents=False)\n",
    "    outfile_path = os.path.join(target_dir, f'CG3_{run}.nxs')\n",
    "    SaveNexus('scan', Filename=outfile_path)\n",
    "\"\"\""
   ]
  },
  {
   "cell_type": "code",
   "execution_count": null,
   "metadata": {},
   "outputs": [],
   "source": [
    "data_dir = '/HFIR/CG3/shared/sans-backend/data/new/ornl/sans/hfir/biosans/pixel_calibration/runs_838_953'\n",
    "first_run, last_run = 838, 953\n",
    "\n",
    "file_extension = '.nxs'\n",
    "barscan_files = [os.path.join(data_dir, f'CG3_{run}{file_extension}') for run in range(first_run, 1 + last_run)]\n",
    "\n",
    "#clone components for midrange detector\n",
    "barscan_workspaces = []\n",
    "middle_scan_index = int((last_run - first_run) / 2)\n",
    "middle_scan_w = None\n",
    "wing_barscan_workspace = mtd.unique_hidden_name()\n",
    "for scan_index, scan_data in enumerate(barscan_files):\n",
    "    LoadNexusProcessed(scan_data, OutputWorkspace=wing_barscan_workspace)\n",
    "    Integration(InputWorkspace=wing_barscan_workspace, OutputWorkspace=wing_barscan_workspace)\n",
    "\n",
    "    output_workspace = mtd.unique_hidden_name()\n",
    "    insert_midrange_detector(wing_barscan_workspace, output_workspace=output_workspace)\n",
    "    clone_component_intensities(\n",
    "        wing_barscan_workspace,\n",
    "        output_workspace=output_workspace,\n",
    "        input_component=\"wing_detector\",\n",
    "        output_component=\"midrange_detector\",\n",
    "        copy_logs=True,\n",
    "    )\n",
    "    if (middle_scan_index == scan_index):\n",
    "        middle_scan_w = output_workspace\n",
    "    barscan_workspaces.append(str(output_workspace))"
   ]
  },
  {
   "cell_type": "markdown",
   "metadata": {},
   "source": [
    "Let's plot the middle scan, run 895, which is index 57 in the <code>barscan_files</code> / <code>barscan_worskspaces</code> list. The initial files are located in  <code>barscan_files</code>, and the workspaces with intensities for the midrange detector cloned from the wing detector are located in <code>barscan_worskspaces</code."
   ]
  },
  {
   "cell_type": "code",
   "execution_count": null,
   "metadata": {},
   "outputs": [],
   "source": [
    "print(middle_scan_index)\n",
    "print(barscan_workspaces[middle_scan_index])\n",
    "print(barscan_files[middle_scan_index])\n",
    "\n",
    "middle_name = os.path.basename(barscan_workspaces[middle_scan_index]).replace(file_extension,'')\n",
    "plot_workspace(middle_name)"
   ]
  },
  {
   "cell_type": "markdown",
   "metadata": {},
   "source": [
    "Notice the <b>first and last tube of the wing detector</b> is partically covered by the bar. Thus, we will <b>mask these tubes</b> when calibrating the wing detector. The corresponding detector ids will be used.\n",
    "\n",
    "Now we carry out the calibration. Each detector array requires its own calibration. Notice we're using a custom formula `formula='{y} - 565'` that gives us the height of the bar with respect to the frame of reference of the same. Here, `{y}` is the value of log entry `dcal_Reaback`. This value is usually zero when the bar is at the top of the detector, so that the position of the bar in the frame of reference of the sample is `565 - {y}`. Then the value of `dcal_Readback` increases as the bar descends, reaching a maximum the bar reaches the bottom of the detetector. For this barscan, however, the value of `dcal_Readback` is maximum when the bar is at the top of the detector and minimum at the bottom. Thus, the formula we need to use is `'{y} - 565'` instead of the usual `565 - {y}`.\n",
    "Everytime one runs a new calibration, the value of `dcal_Readback` <b>should be checked</b> when the bar is at the top of the detector to figure out which formula is the correct one."
   ]
  },
  {
   "cell_type": "code",
   "execution_count": null,
   "metadata": {},
   "outputs": [],
   "source": [
    "start_time = time.time()\n",
    "calibration_main,_ = calculate_barscan_calibration(barscan_workspaces, component='detector1', formula='{y} - 565', inspect_data=True)\n",
    "print('Calibration of the main detector array took ', int((time.time() - start_time) / 60), 'minutes')\n",
    "#save in the local temp directory\n",
    "database='/tmp/calibration.json'\n",
    "calibration_main.save(database=database,overwrite=True)  # save calibration for the main detector"
   ]
  },
  {
   "cell_type": "code",
   "execution_count": null,
   "metadata": {},
   "outputs": [],
   "source": [
    "\n",
    "#back-wing-panel bank 88/tube 4, the furthest from the beam\n",
    "tube_pixels = 256\n",
    "closest_masked_detector_ids = list(range(89856, 89856+tube_pixels+1))\n",
    "\n",
    "#mask front-wing-panel bank49 tube1 , closest to the beam line\n",
    "furthest_masked_detector_ids = list(range(49152, 49152+tube_pixels+1))\n",
    "masked_detectors = closest_masked_detector_ids + furthest_masked_detector_ids\n",
    "\n",
    "start_time = time.time()\n",
    "calibration_wing, _ = calculate_barscan_calibration(barscan_workspaces, component='wing_detector', formula='{y} - 565', mask=masked_detectors, inspect_data=True)\n",
    "print('Calibration of the wing detector array took ', int((time.time() - start_time) / 60), 'minutes')"
   ]
  },
  {
   "cell_type": "code",
   "execution_count": null,
   "metadata": {},
   "outputs": [],
   "source": [
    "tube_pixels = 256\n",
    "# mask the last tube in the midrange detector (back-midrange panel/bank104/tube4 from visual inspection of instrument)\n",
    "closest_masked_detector_ids = list(range(106240, 106240+tube_pixels+1))\n",
    "\n",
    "#front-midrange panel bank 89/tube 1, the furthest from the beam\n",
    "furthest_masked_detector_ids = list(range(90112, 90112+tube_pixels+1))\n",
    "masked_detectors = closest_masked_detector_ids + furthest_masked_detector_ids\n",
    "\n",
    "start_time = time.time()\n",
    "calibration_midrange, _ = calculate_barscan_calibration(barscan_workspaces, component='midrange_detector', formula='{y} - 565', mask=masked_detectors, inspect_data=True)\n",
    "print('Calibration of the midrange detector array took ', int((time.time() - start_time) / 60), 'minutes')"
   ]
  },
  {
   "cell_type": "markdown",
   "metadata": {},
   "source": [
    "<h5>Calibration objects are saved to a database as two separate pieces:</h5>\n",
    "\n",
    "- metadata (instrument name, day stamp, name of the double-detector-array) is save to a JSON file.  \n",
    "- data (a table workspace) is saved to a Nexus file with SaveNexus.  \n",
    "\n",
    "There's a default database for every instrument. The BIOSANS location for the metadata JSON file:\n",
    "\n",
    "- BIOSANS: <b>/HFIR/CG3/shared/calibration/pixel_calibration.json</b>\n",
    "\n",
    "Data tables are saved under `tables/` subdirectory:\n",
    "\n",
    "- BIOSANS: <b>/HFIR/CG3/shared/calibration/tables</b>\n",
    "\n",
    "<h5>Calibration objects have method \"<b>save</b>\" to save itself to the database. The full signature of this method:</h5>\n",
    "\n",
    "    def save(self, database=None, tablefile=None, overwrite=False):\n",
    "        r\"\"\"\n",
    "        Save the calibration metadata in a JSON file, and the calibration table workspace in a Nexus file.\n",
    "\n",
    "        Parameters\n",
    "        ----------\n",
    "        database: str\n",
    "            Path to the JSON file where the ```metadata``` dictionary will be appended. If :py:obj:`None`,\n",
    "            then the appropriate default file from ~drtsans.pixel_calibration.database_file is used.\n",
    "            Currently, these are the default files:\n",
    "            - BIOSANS, '/HFIR/CG3/shared/calibration/pixel_calibration.json',\n",
    "            - EQSANS, '/SNS/EQSANS/shared/calibration/pixel_calibration.json',\n",
    "            - GPSANS, '/HFIR/CG2/shared/calibration/pixel_calibration.json'\n",
    "        tablefile: str\n",
    "            Path to the Nexus file storing the pixel calibration data. If :py:obj:`None`, then\n",
    "            a composite name is created using the calibration type, instrument, component,\n",
    "            and daystamp. (e.g. \"barscan_biosans_detector1_20200311\"). The file is saved under\n",
    "            subdirectory 'tables', located within the directory of the ```database``` file.\n",
    "            For instance, '/HFIR/CG3/shared/calibration/tables/barscan_biosans_detector1_20200311.nxs'\n",
    "        overwrite: bool\n",
    "            Substitute existing entry with same metadata\n",
    "\n",
    "        Raises\n",
    "        ------\n",
    "        ValueError\n",
    "            If we save a calibration already in the database with option ```overwrite=False```.\n",
    "        \"\"\""
   ]
  },
  {
   "cell_type": "code",
   "execution_count": null,
   "metadata": {},
   "outputs": [],
   "source": [
    "# Notice we overwrite the already saved calibration, which will happen if we run this notebook more than once.\n",
    "#We use the local temporary directory to save the calibration\n",
    "database='/tmp/calibration.json'\n",
    "calibration_main.save(database=database, overwrite=True)  # save calibration for the main detector\n",
    "calibration_wing.save(database=database, overwrite=True)  # save calibration for the wing detector\n",
    "calibration_midrange.save(database=database, overwrite=True)  # save calibration for the midrange detector"
   ]
  },
  {
   "cell_type": "markdown",
   "metadata": {},
   "source": [
    "<h3>Load and Apply a Barscan Calibration</h3>\n",
    "\n",
    "Most relevant function is [load_calibration](http://docs.drt-sans.ornl.gov/drtsans/pixel_calibration.html#drtsans.pixel_calibration.load_calibration)"
   ]
  },
  {
   "cell_type": "code",
   "execution_count": null,
   "metadata": {},
   "outputs": [],
   "source": [
    "import os\n",
    "from drtsans.mono.biosans import load_calibration\n",
    "\n",
    "#\n",
    "# \"plot_main_detector\", \"plot_wing_detector\" and \"plot_midrange_detector\" are used to plot both detectors separately\n",
    "#\n",
    "%matplotlib inline\n",
    "def plot_main_detector(input_workspace, axes_mode='xy', panel_name='detector1'):\n",
    "    return plot_detector(input_workspace, backend='mpl',axes_mode=axes_mode,\n",
    "                         panel_name=panel_name, imshow_kwargs={})\n",
    "def plot_wing_detector(input_workspace, axes_mode='xy', panel_name='wing_detector'):\n",
    "    return plot_detector(input_workspace, backend='mpl',axes_mode=axes_mode,\n",
    "                         panel_name=panel_name, imshow_kwargs={})\n",
    "def plot_midrange_detector(input_workspace, axes_mode='xy', panel_name='midrange_detector'):\n",
    "    return plot_detector(input_workspace, backend='mpl',axes_mode=axes_mode,\n",
    "                         panel_name=panel_name, imshow_kwargs={})\n",
    "def plot_workspace(input_workspace, axes_mode='xy'):\n",
    "    return plot_detector(input_workspace, backend='mpl',axes_mode=axes_mode, imshow_kwargs={})"
   ]
  },
  {
   "cell_type": "markdown",
   "metadata": {},
   "source": [
    "Below we load the run to which we will apply the calibration. It is the middle scan\n",
    "\n",
    "We take a look by plotting the pixel intensities on both main and wing detectors."
   ]
  },
  {
   "cell_type": "code",
   "execution_count": null,
   "metadata": {},
   "outputs": [],
   "source": [
    "data_file = middle_name\n",
    "plot_workspace(middle_name)"
   ]
  },
  {
   "cell_type": "markdown",
   "metadata": {},
   "source": [
    "Loading a calibration with [load_calibration](http://docs.drt-sans.ornl.gov/drtsans/pixel_calibration.html#drtsans.pixel_calibration.load_calibration) requires at least a target workspace and the type of calibration to be loaded. Function <code>load_calibration</code> returns a calibration object.\n",
    "\n",
    "The calibration object has method <b>apply</b> to apply itself into a target workspace. Here's the full documentation for this method:\n",
    "\n",
    "    def apply(self, input_workspace, output_workspace=None):\n",
    "        r\"\"\"\n",
    "        Apply a calibration to an input workspace, and return the calibrated workspace.\n",
    "\n",
    "        Parameters\n",
    "        ----------\n",
    "        input_workspace: str, ~mantid.api.MatrixWorkspace, ~mantid.api.IEventsWorkspace\n",
    "            Workspace to which calibration needs to be applied.\n",
    "        output_workspace: str\n",
    "            Name of the output workspace with calibrated pixels. If :py:obj:`None`, the pixels\n",
    "            of the input workspace will be calibrated and no new workspace is generated.\n",
    "\n",
    "        Returns\n",
    "        -------\n",
    "        ~mantid.api.MatrixWorkspace, ~mantid.api.IEventsWorkspace\n",
    "        \"\"\""
   ]
  },
  {
   "cell_type": "code",
   "execution_count": null,
   "metadata": {},
   "outputs": [],
   "source": [
    "calibration_database_main = load_calibration(middle_name, 'BARSCAN', component='detector1',database=database)\n",
    "calibration_database_wing = load_calibration(middle_name, 'BARSCAN', component='wing_detector',database=database)\n",
    "calibration_database_midrange = load_calibration(middle_name, 'BARSCAN', component='midrange_detector',database=database)\n",
    "\n",
    "# Apply the calibration.\n",
    "start_time = time.time()\n",
    "calibration_database_main.apply(middle_name)\n",
    "calibration_database_wing.apply(middle_name)\n",
    "calibration_database_midrange.apply(middle_name)\n",
    "\n",
    "print(f'Applying the three calibrations took {time.time() - start_time:.1} seconds')"
   ]
  },
  {
   "cell_type": "code",
   "execution_count": null,
   "metadata": {},
   "outputs": [],
   "source": [
    "plot_workspace(middle_name, axes_mode='xy')\n",
    "\n",
    "print('min position on main detector =', min(calibration_database_main.positions), 'm,',\n",
    "      'max position on main detector =', max(calibration_database_main.positions), 'm\\n')\n",
    "\n",
    "print('min height on main detector =', 1000 * min(calibration_database_main.heights), 'mm,',\n",
    "      'max height on main detector =', 1000 * max(calibration_database_main.heights), 'mm')"
   ]
  },
  {
   "cell_type": "code",
   "execution_count": null,
   "metadata": {},
   "outputs": [],
   "source": [
    "views_main = calibration_database_main.as_intensities(middle_name)\n",
    "views_wing = calibration_database_wing.as_intensities(middle_name)\n",
    "views_midrange = calibration_database_midrange.as_intensities(middle_name)"
   ]
  },
  {
   "cell_type": "code",
   "execution_count": null,
   "metadata": {},
   "outputs": [],
   "source": [
    "plot_main_detector(views_main.positions, axes_mode='tube-pixel')\n",
    "plot_wing_detector(views_wing.positions, axes_mode='tube-pixel')\n",
    "plot_midrange_detector(views_midrange.positions, axes_mode='tube-pixel')"
   ]
  },
  {
   "cell_type": "code",
   "execution_count": null,
   "metadata": {},
   "outputs": [],
   "source": [
    "plot_main_detector(views_main.heights, axes_mode='tube-pixel')\n",
    "plot_wing_detector(views_wing.heights, axes_mode='tube-pixel')\n",
    "plot_midrange_detector(views_midrange.heights, axes_mode='tube-pixel')"
   ]
  },
  {
   "cell_type": "markdown",
   "metadata": {},
   "source": [
    "The main detector is not as properly calibrated as the wing detector. This is due to the <b>low events count</b> collected at the main detector (about ~8 counts per pixel) compared to the wing detector (about ~200 counts per pixel). The counts at the main dectector pixels should reach ~100."
   ]
  },
  {
   "cell_type": "markdown",
   "metadata": {},
   "source": [
    "<h3>Calculate Tube Width Calibration</h3>\n",
    "\n",
    "Relevant function is [calculate_apparent_tube_width](http://docs.drt-sans.ornl.gov/drtsans/pixel_calibration.html#drtsans.pixel_calibration.calculate_apparent_tube_width)"
   ]
  },
  {
   "cell_type": "code",
   "execution_count": null,
   "metadata": {},
   "outputs": [],
   "source": [
    "import os\n",
    "import time\n",
    "from drtsans.mono.biosans import calculate_apparent_tube_width\n",
    "\n",
    "#\n",
    "# \"plot_main_detector\", \"plot_wing_detector\" and \"plot_midrange_detector\" are used to plot both detectors separately\n",
    "#\n",
    "%matplotlib inline\n",
    "def plot_main_detector(input_workspace, axes_mode='xy', panel_name='detector1'):\n",
    "    return plot_detector(input_workspace, backend='mpl',axes_mode=axes_mode,\n",
    "                         panel_name=panel_name, imshow_kwargs={})\n",
    "def plot_wing_detector(input_workspace, axes_mode='xy', panel_name='wing_detector'):\n",
    "    return plot_detector(input_workspace, backend='mpl',axes_mode=axes_mode,\n",
    "                         panel_name=panel_name, imshow_kwargs={})\n",
    "def plot_midrange_detector(input_workspace, axes_mode='xy', panel_name='midrange_detector'):\n",
    "    return plot_detector(input_workspace, backend='mpl',axes_mode=axes_mode,\n",
    "                         panel_name=panel_name, imshow_kwargs={})\n",
    "def plot_workspace(input_workspace, axes_mode='xy'):\n",
    "    return plot_detector(input_workspace, backend='mpl',axes_mode=axes_mode, imshow_kwargs={})"
   ]
  },
  {
   "cell_type": "markdown",
   "metadata": {},
   "source": [
    "The flood file CG3_4829.nxs.h5 is 9.3GB in size but we only require the total intensity per pixel. We implement the following steps to convert into a simple Mantid MatrixWorkspace:\n",
    "\n",
    "- `LoadEventNexus` to load the events file\n",
    "- `Rebin` to summ all events into a single total count (per pixel)\n",
    "- `SaveNexus` saves the MatrixWorkspace to a file.\n",
    "\n",
    "Here's the script I run in another location. You can copy and paste into a jupyter notebook cell to run it.\n",
    "\n",
    "    from mantid.simpleapi import LoadEventNexus, LoadInstrument, Rebin, SaveNexus\n",
    "\n",
    "    flood_file = '/HFIR/CG3/IPTS-23782/nexus/CG3_4829.nxs.h5'\n",
    "    LoadEventNexus(Filename=flood_file, OutputWorkspace='flood_workspace')\n",
    "    Rebin(InputWorkspace='flood_workspace', OutputWorkspace='flood_workspace',\n",
    "          Params=[0, 1.E06, 1.E06], PreserveEvents=False)\n",
    "    flood_file = '/HFIR/CG3/shared/sans-backend/data/new/ornl/sans/hfir/biosans/pixel_calibration/flood_files/CG3_4829.nxs'\n",
    "    SaveNexus(InputWorkspace='flood_workspace', Filename=flood_file)"
   ]
  },
  {
   "cell_type": "markdown",
   "metadata": {},
   "source": [
    "The rebinned file is 178 MB in size."
   ]
  },
  {
   "cell_type": "code",
   "execution_count": null,
   "metadata": {},
   "outputs": [],
   "source": [
    "flood_file = '/HFIR/CG3/shared/sans-backend/data/new/ornl/sans/hfir/biosans/pixel_calibration/flood_files/CG3_4829.nxs'\n",
    "flood_workspace = 'flood_workspace'\n",
    "LoadNexus(Filename=flood_file, OutputWorkspace=flood_workspace)\n",
    "\n",
    "Integration(InputWorkspace=flood_workspace, OutputWorkspace=flood_workspace)\n",
    "output_flood_workspace = mtd.unique_hidden_name()\n",
    "insert_midrange_detector(flood_workspace, output_workspace=output_flood_workspace)\n",
    "clone_component_intensities(\n",
    "    flood_workspace,\n",
    "    output_workspace=output_flood_workspace,\n",
    "    input_component=\"wing_detector\",\n",
    "    output_component=\"midrange_detector\",\n",
    "    copy_logs=True,\n",
    ")\n"
   ]
  },
  {
   "cell_type": "markdown",
   "metadata": {},
   "source": [
    "The main detector needs the beam center to be masked prior to running the tube width calibration:"
   ]
  },
  {
   "cell_type": "code",
   "execution_count": null,
   "metadata": {},
   "outputs": [],
   "source": [
    "plot_main_detector(output_flood_workspace, axes_mode='tube-pixel')"
   ]
  },
  {
   "cell_type": "markdown",
   "metadata": {},
   "source": [
    "We have masked the beam center and saved the mask in a file. Here we apply the mask to the workspace using `apply_mask`"
   ]
  },
  {
   "cell_type": "code",
   "execution_count": null,
   "metadata": {},
   "outputs": [],
   "source": [
    "def apply_mask(input_workspace, mask=None, panel=None, output_workspace=None, **btp): r\"\"\" Apply a mask to a workspace.\n",
    "\n",
    "The function accepts a path to a mask file, a MaskWorkspace, or options\n",
    "to algorithm :ref:`MaskBTP <algm-MaskBTP-v1>`.\n",
    "\n",
    "Parameters\n",
    "----------\n",
    "input_workspace: str, ~mantid.api.IEventWorkspace, ~mantid.api.MatrixWorkspace\n",
    "    Workspace to be masked\n",
    "mask: mask file path, ~mantid.api.MaskWorkspace, :py:obj:`list`\n",
    "    Additional mask to be applied. If :py:obj:`list`, it is a list of\n",
    "    detector ID's. If `None`, it is expected that `maskbtp` is not empty.\n",
    "panel: str\n",
    "    Either 'front' or 'back' to mask a whole panel\n",
    "output_workspace: str\n",
    "    Name of the output ~mantid.api.MatrixWorkspace. If ``None``, a random name will be provided for the workspace.\n",
    "btp: dict\n",
    "    Options to Mantid algorithm :ref:`MaskBTP <algm-MaskBTP-v1>` or :ref:`MaskAngle <algm-MaskAngle-v1>`.\n",
    "    Will be used if  ``mask=None``\n",
    "\n",
    "Returns\n",
    "-------\n",
    "MaskWorkspace\n",
    "    Combination of panel, mask, and :ref:`MaskBTP <algm-MaskBTP-v1>` masks\n",
    "\"\"\""
   ]
  },
  {
   "cell_type": "code",
   "execution_count": null,
   "metadata": {},
   "outputs": [],
   "source": [
    "from drtsans.mono.biosans import apply_mask\n",
    "mask_file = '/HFIR/CG3/shared/sans-backend/data/new/ornl/sans/hfir/biosans/pixel_calibration/flood_files/mask_4829.xml'\n",
    "apply_mask(output_flood_workspace, mask=mask_file)"
   ]
  },
  {
   "cell_type": "code",
   "execution_count": null,
   "metadata": {},
   "outputs": [],
   "source": [
    "plot_main_detector(output_flood_workspace, axes_mode='tube-pixel')"
   ]
  },
  {
   "cell_type": "markdown",
   "metadata": {},
   "source": [
    "Ideally, calculation of the apparent tube width requires that the pixel positions and heights have been calibrated with a barscan. If no good barscan is present in the database, we can use the default pixel positions and heights defined in the instrument defintion file by setting <code>load_barscan_calibration=False</code>"
   ]
  },
  {
   "cell_type": "code",
   "execution_count": null,
   "metadata": {},
   "outputs": [],
   "source": [
    "start_time = time.time()\n",
    "calibration_main = calculate_apparent_tube_width(output_flood_workspace, component='detector1',\n",
    "                                                 load_barscan_calibration=False)\n",
    "calibration_wing = calculate_apparent_tube_width(output_flood_workspace, component='wing_detector',\n",
    "                                                 load_barscan_calibration=False)\n",
    "calibration_midrange = calculate_apparent_tube_width(output_flood_workspace, component='midrange_detector',\n",
    "                                                 load_barscan_calibration=False)\n",
    "print('Calibration took ', int(time.time() - start_time), 'seconds')"
   ]
  },
  {
   "cell_type": "markdown",
   "metadata": {},
   "source": [
    "<h5>Calibration objects are saved to a database as two separate pieces:</h5>\n",
    "\n",
    "- metadata (instrument name, day stamp, name of the double-detector-array) is save to a JSON file.  \n",
    "- data (a table workspace) is saved to a Nexus file with SaveNexus.  \n",
    "\n",
    "There's a default database for every instrument. The BIOSANS location for the metadata JSON file:\n",
    "\n",
    "- BIOSANS: <b>/HFIR/CG3/shared/calibration/pixel_calibration.json</b>\n",
    "\n",
    "Data tables are saved under `tables/` subdirectory:\n",
    "\n",
    "- BIOSANS: <b>/HFIR/CG3/shared/calibration/tables</b>\n",
    "\n",
    "<h5>Calibration objects have method \"<b>save</b>\" to save itself to the the database. The full signature of this method:</h5>\n",
    "\n",
    "    def save(self, database=None, tablefile=None, overwrite=False):\n",
    "        r\"\"\"\n",
    "        Save the calibration metadata in a JSON file, and the calibration table workspace in a Nexus file.\n",
    "\n",
    "        Parameters\n",
    "        ----------\n",
    "        database: str\n",
    "            Path to the JSON file where the ```metadata``` dictionary will be appended. If :py:obj:`None`,\n",
    "            then the appropriate default file from ~drtsans.pixel_calibration.database_file is used.\n",
    "            Currently, these are the default files:\n",
    "            - BIOSANS, '/HFIR/CG3/shared/calibration/pixel_calibration.json',\n",
    "            - EQSANS, '/SNS/EQSANS/shared/calibration/pixel_calibration.json',\n",
    "            - GPSANS, '/HFIR/CG2/shared/calibration/pixel_calibration.json'\n",
    "        tablefile: str\n",
    "            Path to the Nexus file storing the pixel calibration data. If :py:obj:`None`, then\n",
    "            a composite name is created using the calibration type, instrument, component,\n",
    "            and daystamp. (e.g. \"barscan_biosans_detector1_20200311\"). The file is saved under\n",
    "            subdirectory 'tables', located within the directory of the ```database``` file.\n",
    "            For instance, '/HFIR/CG3/shared/calibration/tables/barscan_biosans_detector1_20200311.nxs'\n",
    "        overwrite: bool\n",
    "            Substitute existing entry with same metadata\n",
    "\n",
    "        Raises\n",
    "        ------\n",
    "        ValueError\n",
    "            If we save a calibration already in the database with option ```overwrite=False```.\n",
    "        \"\"\""
   ]
  },
  {
   "cell_type": "code",
   "execution_count": null,
   "metadata": {},
   "outputs": [],
   "source": [
    "# Notice we overwrite the already saved calibration, which will happen if we run this notebook more than once.\n",
    "#We save in the local temp directory\n",
    "database='/tmp/calibration.json'\n",
    "calibration_main.save(overwrite=True, database=database)\n",
    "calibration_wing.save(overwrite=True, database=database)\n",
    "calibration_midrange.save(overwrite=True, database=database)"
   ]
  },
  {
   "cell_type": "markdown",
   "metadata": {},
   "source": [
    "<h3>Load and Apply a Tube Width Calibration</h3>\n",
    "\n",
    "First some general imports and a couple of custom plotting functions"
   ]
  },
  {
   "cell_type": "code",
   "execution_count": null,
   "metadata": {},
   "outputs": [],
   "source": [
    "import time\n",
    "from mantid.api import mtd\n",
    "from mantid.simpleapi import CreateWorkspace, LoadNexus\n",
    "from drtsans.tubecollection import TubeCollection\n",
    "from matplotlib import pyplot as plt\n",
    "#\n",
    "# \"plot_histograms\" to create fancy plots of the spectram stored in an input workspace\n",
    "#\n",
    "def plot_histograms(input_workspace, legend=[], xlabel='X-axis', ylabel='Y-axis', title='', linewidths=[]):\n",
    "    r\"\"\"Line plot for the histograms of a workspace\"\"\"\n",
    "    workspace = mtd[str(input_workspace)]\n",
    "    number_histograms = workspace.getNumberHistograms()\n",
    "    if len(legend) != number_histograms:\n",
    "        legend = [str(i) for i in range(number_histograms)]\n",
    "    if len(linewidths) != number_histograms:\n",
    "        linewidths = [1] * number_histograms\n",
    "    fig, ax = plt.subplots(subplot_kw={'projection':'mantid'})\n",
    "    for workspace_index in range(number_histograms):\n",
    "        ax.plot(workspace, wkspIndex=workspace_index, label=legend[workspace_index],\n",
    "                linewidth=linewidths[workspace_index])\n",
    "    ax.legend()\n",
    "    ax.set_xlabel(xlabel)\n",
    "    ax.set_ylabel(ylabel)\n",
    "    ax.set_title(title)\n",
    "    ax.tick_params(axis='x', direction='in')\n",
    "    ax.tick_params(axis='y', direction='out')\n",
    "    ax.grid(True)\n",
    "    fig.show()"
   ]
  },
  {
   "cell_type": "code",
   "execution_count": null,
   "metadata": {},
   "outputs": [],
   "source": [
    "#here\n",
    "# Load the run to which we will apply the calibration, then plot the pixel intensities\n",
    "#input_data = '/HFIR/CG3/shared/sans-backend/data/new/ornl/sans/hfir/biosans/pixel_calibration/flood_files/CG3_4829.nxs'\n",
    "#LoadNexus(Filename=input_data, OutputWorkspace='workspace')\n",
    "\n",
    "flood_file = '/HFIR/CG3/shared/sans-backend/data/new/ornl/sans/hfir/biosans/pixel_calibration/flood_files/CG3_4829.nxs'\n",
    "flood_workspace = 'workspace'\n",
    "LoadNexus(Filename=flood_file, OutputWorkspace=flood_workspace)\n",
    "\n",
    "Integration(InputWorkspace=flood_workspace, OutputWorkspace=flood_workspace)\n",
    "output_flood_workspace = mtd.unique_hidden_name()\n",
    "insert_midrange_detector(flood_workspace, output_workspace=output_flood_workspace)\n",
    "clone_component_intensities(\n",
    "    flood_workspace,\n",
    "    output_workspace=output_flood_workspace,\n",
    "    input_component=\"wing_detector\",\n",
    "    output_component=\"midrange_detector\",\n",
    "    copy_logs=True,\n",
    ")\n"
   ]
  },
  {
   "cell_type": "code",
   "execution_count": null,
   "metadata": {},
   "outputs": [],
   "source": [
    "plot_workspace(output_flood_workspace, axes_mode='tube-pixel')"
   ]
  },
  {
   "cell_type": "markdown",
   "metadata": {},
   "source": [
    "The run corresponds to a flood run.\n",
    "\n",
    "We have masked the beam center and saved the mask in a file. Here we apply the mask to the workspace using `apply_mask`"
   ]
  },
  {
   "cell_type": "code",
   "execution_count": null,
   "metadata": {},
   "outputs": [],
   "source": [
    "from drtsans.mono.biosans import apply_mask\n",
    "mask_file = '/HFIR/CG3/shared/sans-backend/data/new/ornl/sans/hfir/biosans/pixel_calibration/flood_files/mask_4829.xml'\n",
    "apply_mask(output_flood_workspace, mask=mask_file)"
   ]
  },
  {
   "cell_type": "code",
   "execution_count": null,
   "metadata": {},
   "outputs": [],
   "source": [
    "plot_main_detector(output_flood_workspace, axes_mode='tube-pixel')"
   ]
  },
  {
   "cell_type": "markdown",
   "metadata": {},
   "source": [
    "<h4>Intensities Normalized by Pixel Width</h4>\n",
    "In function <code>linear_density</code> we integrate the total intensity per tube and divide by the number of non-masked pixels in the tube, and by the tube width. Front end tubes collect more intentity than the back tubes. Similarly, front end tubes have a larger apparent tube width than back tubes. The ratio of total intensity to width should be similar for front and end tubes after the calibration."
   ]
  },
  {
   "cell_type": "code",
   "execution_count": null,
   "metadata": {},
   "outputs": [],
   "source": [
    "def linear_density(workspace, component='detector1'):\n",
    "    r\"\"\"Tube total intensity per unit length of tube width\"\"\"\n",
    "    collection = TubeCollection(workspace, component).sorted(view='decreasing X')\n",
    "    intensities = np.array([np.sum(tube.readY) for tube in collection])\n",
    "    widths = np.array([tube.width for tube in collection])\n",
    "    number_pixels_not_masked = np.array([np.sum(~tube.isMasked) for tube in collection])\n",
    "    return list(intensities / (number_pixels_not_masked * widths))\n",
    "\n",
    "uncalibrated_main_densities = linear_density(output_flood_workspace, component='detector1')\n",
    "uncalibrated_wing_densities = linear_density(output_flood_workspace, component='wing_detector')\n",
    "uncalibrated_midrange_densities = linear_density(output_flood_workspace, component='midrange_detector')"
   ]
  },
  {
   "cell_type": "markdown",
   "metadata": {},
   "source": [
    "We store both linear densities in a workspace, and then we'll use matplotlib to plot both densities.\n",
    "\n",
    "Next, we load and apply the calibration to each detector. The relevant function is [load_calibration](http://docs.drt-sans.ornl.gov/drtsans/pixel_calibration.html#drtsans.pixel_calibration.load_calibration)"
   ]
  },
  {
   "cell_type": "code",
   "execution_count": null,
   "metadata": {},
   "outputs": [],
   "source": [
    "from drtsans.mono.biosans import load_calibration\n",
    "start_time = time.time()\n",
    "calibration_main = load_calibration(output_flood_workspace, 'TUBEWIDTH', component='detector1',database=database)\n",
    "calibration_main.apply(output_flood_workspace)\n",
    "\n",
    "calibration_wing = load_calibration(output_flood_workspace, 'TUBEWIDTH', component='wing_detector',database=database)\n",
    "calibration_wing.apply(output_flood_workspace)\n",
    "\n",
    "calibration_midrange = load_calibration(output_flood_workspace, 'TUBEWIDTH', component='midrange_detector',database=database)\n",
    "calibration_midrange.apply(output_flood_workspace)\n",
    "\n",
    "print('Applying the calibration took ', time.time() - start_time, 'seconds')\n",
    "\n",
    "calibrated_main_densities = linear_density(output_flood_workspace, component='detector1')\n",
    "calibrated_wing_densities = linear_density(output_flood_workspace, component='wing_detector')\n",
    "calibrated_midrange_densities = linear_density(output_flood_workspace, component='midrange_detector')"
   ]
  },
  {
   "cell_type": "markdown",
   "metadata": {},
   "source": [
    "We store both linear densities in a workspace, and then we'll use matplotlib to plot both densities"
   ]
  },
  {
   "cell_type": "code",
   "execution_count": null,
   "metadata": {},
   "outputs": [],
   "source": [
    "#main detector\n",
    "number_tubes = len(uncalibrated_main_densities)\n",
    "CreateWorkspace(DataX=range(number_tubes),\n",
    "                DataY=np.array([uncalibrated_main_densities, calibrated_main_densities]),\n",
    "                NSpec=2,   # two histograms\n",
    "                Outputworkspace='main_linear_densities')\n",
    "plot_histograms('main_linear_densities', title='Main Detector Linear Densities',\n",
    "                legend=['no calibration', 'calibrated'],\n",
    "                xlabel='Tube Index', ylabel='Intensity', linewidths=[3, 1])\n",
    "\n",
    "#wing detector\n",
    "number_tubes = len(uncalibrated_wing_densities)\n",
    "CreateWorkspace(DataX=range(number_tubes),\n",
    "                DataY=np.array([uncalibrated_wing_densities, calibrated_wing_densities]),\n",
    "                NSpec=2,   # two histograms\n",
    "                Outputworkspace='wing_linear_densities')\n",
    "plot_histograms('wing_linear_densities', title='Wing Detector Linear Densities',\n",
    "                legend=['no calibration', 'calibrated'],\n",
    "                xlabel='Tube Index', ylabel='Intensity', linewidths=[3, 1])\n",
    "#midrange detector\n",
    "number_tubes = len(uncalibrated_midrange_densities)\n",
    "CreateWorkspace(DataX=range(number_tubes),\n",
    "                DataY=np.array([uncalibrated_midrange_densities, calibrated_midrange_densities]),\n",
    "                NSpec=2,   # two histograms\n",
    "                Outputworkspace='midrange_linear_densities')\n",
    "plot_histograms('midrange_linear_densities', title='Midrange Detector Linear Densities',\n",
    "                legend=['no calibration', 'calibrated'],\n",
    "                xlabel='Tube Index', ylabel='Intensity', linewidths=[3, 1])"
   ]
  },
  {
   "cell_type": "markdown",
   "metadata": {},
   "source": [
    "The oscillating intensities in the linear densities have been suppresed for most tubes, indicating the calibration is working."
   ]
  },
  {
   "cell_type": "markdown",
   "metadata": {},
   "source": [
    "<h3>Loading and Applying a pixel calibration</h3>\n",
    "\n",
    "Relevant function is [apply_calibrations](http://docs.drt-sans.ornl.gov/drtsans/pixel_calibration.html#drtsans.pixel_calibration.apply_calibrations), which will search for <code>BARSCAN</code> and <code>TUBEWIDTH</code> calibrations appropriate to the target run"
   ]
  },
  {
   "cell_type": "code",
   "execution_count": null,
   "metadata": {},
   "outputs": [],
   "source": [
    "import time\n",
    "from mantid.simpleapi import LoadNexus\n",
    "from drtsans.mono.biosans import apply_calibrations\n",
    "\n",
    "#\n",
    "# \"plot_workspace\" is a utility function, which we will use a couple of times\n",
    "#\n",
    "from drtsans.plots import plot_detector\n",
    "def plot_workspace(input_workspace, axes_mode='tube-pixel'):\n",
    "    return plot_detector(input_workspace, backend='mpl',axes_mode=axes_mode, imshow_kwargs={})"
   ]
  },
  {
   "cell_type": "code",
   "execution_count": null,
   "metadata": {},
   "outputs": [],
   "source": [
    "# Load the run to which we will apply the calibration, then plot the pixel intensities\n",
    "flood_file = '/HFIR/CG3/shared/sans-backend/data/new/ornl/sans/hfir/biosans/pixel_calibration/flood_files/CG3_4829.nxs'\n",
    "flood_workspace = 'workspace'\n",
    "LoadNexus(Filename=flood_file, OutputWorkspace=flood_workspace)\n",
    "\n",
    "Integration(InputWorkspace=flood_workspace, OutputWorkspace=flood_workspace)\n",
    "output_flood_workspace = mtd.unique_hidden_name()\n",
    "insert_midrange_detector(flood_workspace, output_workspace=output_flood_workspace)\n",
    "clone_component_intensities(\n",
    "    flood_workspace,\n",
    "    output_workspace=output_flood_workspace,\n",
    "    input_component=\"wing_detector\",\n",
    "    output_component=\"midrange_detector\",\n",
    "    copy_logs=True,\n",
    ")\n",
    "\n",
    "plot_workspace(output_flood_workspace, axes_mode='xy')"
   ]
  },
  {
   "cell_type": "code",
   "execution_count": null,
   "metadata": {},
   "outputs": [],
   "source": [
    "start_time = time.time()\n",
    "apply_calibrations(output_flood_workspace,database=database)\n",
    "print('Applying the calibration took ', time.time() - start_time, 'seconds')"
   ]
  },
  {
   "cell_type": "code",
   "execution_count": null,
   "metadata": {},
   "outputs": [],
   "source": [
    "plot_workspace(output_flood_workspace, axes_mode='xy')"
   ]
  },
  {
   "cell_type": "markdown",
   "metadata": {},
   "source": [
    "We can see when the BARSCAN calibration was taken, and the time when the input data was taken. For this we use function [load_calibration](http://docs.drt-sans.ornl.gov/drtsans/pixel_calibration.html#drtsans.pixel_calibration.load_calibration) and function <code>day_stamp</code>."
   ]
  },
  {
   "cell_type": "code",
   "execution_count": null,
   "metadata": {},
   "outputs": [],
   "source": [
    "from drtsans.pixel_calibration import load_calibration, day_stamp\n",
    "barscan_calibration = load_calibration(output_flood_workspace, 'BARSCAN', database=database)\n",
    "tubewidth_calibration = load_calibration(output_flood_workspace, 'TUBEWIDTH', database=database)\n",
    "print('BARSCAN taken on', barscan_calibration.daystamp)\n",
    "print('TUBEWIDTH taken on', tubewidth_calibration.daystamp)\n",
    "print('Input data taken on ', day_stamp(output_flood_workspace))"
   ]
  }
 ],
 "metadata": {
  "kernelspec": {
   "display_name": "Python 3 (ipykernel)",
   "language": "python",
   "name": "python3"
  },
  "language_info": {
   "codemirror_mode": {
    "name": "ipython",
    "version": 3
   },
   "file_extension": ".py",
   "mimetype": "text/x-python",
   "name": "python",
   "nbconvert_exporter": "python",
   "pygments_lexer": "ipython3",
   "version": "3.10.14"
  },
  "toc": {
   "base_numbering": 1,
   "nav_menu": {},
   "number_sections": true,
   "sideBar": true,
   "skip_h1_title": false,
   "title_cell": "Table of Contents",
   "title_sidebar": "Contents",
   "toc_cell": false,
   "toc_position": {},
   "toc_section_display": true,
   "toc_window_display": false
  }
 },
 "nbformat": 4,
 "nbformat_minor": 4
}
