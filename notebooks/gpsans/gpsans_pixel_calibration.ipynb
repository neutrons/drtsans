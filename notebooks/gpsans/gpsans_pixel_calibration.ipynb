{
 "cells": [
  {
   "cell_type": "markdown",
   "metadata": {},
   "source": [
    "<h3> Create and Save a Barscan Calibration from a Sequence of Files</h3>\n",
    "\n",
    "Most relevant function here is [calculate_barscan_calibration](http://docs.drt-sans.ornl.gov/drtsans/pixel_calibration.html#drtsans.pixel_calibration.calculate_barscan_calibration).\n",
    "\n",
    "The output of <code>calculate_barscan_calibration</code> outputs an object containing two parts: a <b>metadata</b> (instrument name, day stamp, name of the double-detector-array), and the proper calibration data, contained in a Mantid <b>table</b> object."
   ]
  },
  {
   "cell_type": "code",
   "execution_count": null,
   "metadata": {},
   "outputs": [],
   "source": [
    "#\n",
    "# \"plot_workspace\" is a utility function, which we will use a couple of times\n",
    "#\n",
    "%matplotlib inline\n",
    "from drtsans.mono.gpsans import plot_detector\n",
    "def plot_workspace(input_workspace, axes_mode='tube-pixel'):\n",
    "    return plot_detector(input_workspace, backend='mpl',axes_mode=axes_mode, imshow_kwargs={})"
   ]
  },
  {
   "cell_type": "markdown",
   "metadata": {},
   "source": [
    "<h4>Saving memory by transforming the events files into histograms</h4>\n",
    "\n",
    "Although not necessary in the analysis machines, we're going to transform these events files to histogram files, thus reducing their size to about 20% the original size. We'll use these histogram files for the calibration.\n",
    "\n",
    "This takes up quite a bit of time, so **it should be done only once**."
   ]
  },
  {
   "cell_type": "code",
   "execution_count": null,
   "metadata": {},
   "outputs": [],
   "source": [
    "first_run, last_run = 9905, 10016\n",
    "data_files = '/HFIR/CG2/IPTS-23801/nexus/CG2_{0}.nxs.h5'\n",
    "save_dir = '/tmp/pixel_calibration'\n",
    "\n",
    "import os\n",
    "from mantid.simpleapi import LoadEventAsWorkspace2D, HFIRSANS2Wavelength, SaveNexus, DeleteWorkspaces\n",
    "\n",
    "os.makedirs(save_dir, exist_ok=True)\n",
    "\n",
    "print('Processing runs:')\n",
    "for run in range(first_run, 1 + last_run):\n",
    "    print(run, ', ', end='')\n",
    "\n",
    "    workspace_events = 'events_{0}'.format(run)\n",
    "    LoadEventAsWorkspace2D(Filename=data_files.format(run), LoadMonitors=False, OutputWorkspace=workspace_events)\n",
    "\n",
    "    workspace_counts = 'counts_{0}'.format(run)\n",
    "    HFIRSANS2Wavelength(InputWorkspace=workspace_events, OutputWorkspace=workspace_counts)\n",
    "\n",
    "    file_histogram = save_dir + workspace_counts + '.nxs'\n",
    "    SaveNexus(InputWorkspace='counts_{0}'.format(run), Filename=file_histogram)\n",
    "    DeleteWorkspaces([workspace_events, workspace_counts])"
   ]
  },
  {
   "cell_type": "code",
   "execution_count": null,
   "metadata": {},
   "outputs": [],
   "source": [
    "first_run, last_run = 9905, 10016\n",
    "save_dir = '/tmp/pixel_calibration'\n",
    "barscan_dataset = list()  # list of histogram files\n",
    "for run in range(first_run, 1 + last_run):\n",
    "    file_histogram = save_dir + 'counts_{0}.nxs'.format(run)\n",
    "    barscan_dataset.append(file_histogram)"
   ]
  },
  {
   "cell_type": "markdown",
   "metadata": {},
   "source": [
    "We can inspect a few of the bar scans by looking at the intensity pattern on a detector with default (uncalibrated) detector heights and positions"
   ]
  },
  {
   "cell_type": "code",
   "execution_count": null,
   "metadata": {},
   "outputs": [],
   "source": [
    "from mantid.simpleapi import LoadNexus\n",
    "\n",
    "delta = int((last_run - first_run ) / 4)\n",
    "for index, run in enumerate(range(first_run, last_run, delta)):\n",
    "    output_workspace = 'inspection_{0}'.format(run)\n",
    "    print(output_workspace)\n",
    "    LoadNexus(Filename=barscan_dataset[index * delta], OutputWorkspace=output_workspace)\n",
    "    plot_workspace(output_workspace)"
   ]
  },
  {
   "cell_type": "markdown",
   "metadata": {},
   "source": [
    "<h4>Calculate the barscan</h4>\n",
    "\n",
    "We are using the **default formula** for the position of the bar:  \n",
    "<code>565 - {y} - 0.0914267 * (191 - {tube})</code>  \n",
    "\n",
    "- <code>{y}</code> is the bar position reported in the log.\n",
    "- <code>{tube}</code> is the index of each tube, with index zero being the leftmost tube when viewed from the sample's position. Required if **the bar is not completely horizontal**, but it's inclined."
   ]
  },
  {
   "cell_type": "code",
   "execution_count": null,
   "metadata": {},
   "outputs": [],
   "source": [
    "import time\n",
    "from drtsans.mono.gpsans import calculate_barscan_calibration\n",
    "\n",
    "start_time = time.time()\n",
    "formula = '565 - {y} - 0.0914267 * (191 - {tube})'\n",
    "calibration = calculate_barscan_calibration(barscan_dataset, formula=formula)\n",
    "print('Calibration took ', int((time.time() - start_time) / 60), 'minutes')"
   ]
  },
  {
   "cell_type": "markdown",
   "metadata": {},
   "source": [
    "We can visualize the calibration by coloring each pixel according to its height, or according to its position. Then we show a 2D plot of the pixel colors. For this purpose we create \"views\" with the `as_intensities()` method of the calibration object.\n",
    "\n",
    "We must pass a reference workspace to method `as_intensities()`, which could be one of our inspection runs"
   ]
  },
  {
   "cell_type": "code",
   "execution_count": null,
   "metadata": {},
   "outputs": [],
   "source": [
    "views = calibration.as_intensities('inspection_{0}'.format(first_run))\n",
    "plot_workspace(views.positions)  # views.positions is a workspace containing pixel positions as pixel counts\n",
    "plot_workspace(views.heights)  # views.heights is a workspace containing pixel positions as pixel counts"
   ]
  },
  {
   "cell_type": "markdown",
   "metadata": {},
   "source": [
    "We can also inspect the result of applying the calibration to one of the barscan files, before saving the calibratoin to the database"
   ]
  },
  {
   "cell_type": "code",
   "execution_count": null,
   "metadata": {},
   "outputs": [],
   "source": [
    "calibration.apply('inspection_9959', output_workspace='inspection_9959_calibrated')\n",
    "plot_workspace('inspection_9959_calibrated', axes_mode='xy')"
   ]
  },
  {
   "cell_type": "markdown",
   "metadata": {},
   "source": [
    "The previous plot shows a tilted bar, indicating that the slope in the formula of the bar position is **not required**"
   ]
  },
  {
   "cell_type": "code",
   "execution_count": null,
   "metadata": {},
   "outputs": [],
   "source": [
    "formula = '565 - {y}'  # no tilted bar\n",
    "calibration = calculate_barscan_calibration(barscan_dataset, formula=formula)"
   ]
  },
  {
   "cell_type": "code",
   "execution_count": null,
   "metadata": {},
   "outputs": [],
   "source": [
    "calibration.apply('inspection_9959', output_workspace='inspection_9959_calibrated')\n",
    "plot_workspace('inspection_9959_calibrated', axes_mode='xy')"
   ]
  },
  {
   "cell_type": "markdown",
   "metadata": {},
   "source": [
    "This time the calibration looks better, it's ready to be saved"
   ]
  },
  {
   "cell_type": "markdown",
   "metadata": {},
   "source": [
    "<h5>Calibration objects are saved to a database as two separate pieces:</h5>\n",
    "\n",
    "- metadata (instrument name, day stamp, name of the double-detector-array) is save to a JSON file.  \n",
    "- data (a table workspace) is saved to a Nexus file with SaveNexus.  \n",
    "\n",
    "There's a default database for every instrument. The GPSANS location for the metadata JSON file:\n",
    "\n",
    "- GPSANS: <b>/HFIR/CG2/shared/calibration/pixel_calibration.json</b>\n",
    "\n",
    "Data tables are saved under `tables/` subdirectory:\n",
    "\n",
    "- GPSANS: <b>/HFIR/CG2/shared/calibration/tables</b>\n",
    "\n",
    "<h5>Calibration objects have method \"<b>save</b>\" to save itself to the the database. The full signature of this method:</h5>\n",
    "\n",
    "    def save(self, database=None, tablefile=None, overwrite=False):\n",
    "        r\"\"\"\n",
    "        Save the calibration metadata in a JSON file, and the calibration table workspace in a Nexus file.\n",
    "\n",
    "        Parameters\n",
    "        ----------\n",
    "        database: str\n",
    "            Path to the JSON file where the ```metadata``` dictionary will be appended. If :py:obj:`None`,\n",
    "            then the appropriate default file from ~drtsans.pixel_calibration.database_file is used.\n",
    "            Currently, these are the default files:\n",
    "            - BIOSANS, '/HFIR/CG3/shared/calibration/pixel_calibration.json',\n",
    "            - EQSANS, '/SNS/EQSANS/shared/calibration/pixel_calibration.json',\n",
    "            - GPSANS, '/HFIR/CG2/shared/calibration/pixel_calibration.json'\n",
    "        tablefile: str\n",
    "            Path to the Nexus file storing the pixel calibration data. If :py:obj:`None`, then\n",
    "            a composite name is created using the calibration type, instrument, component,\n",
    "            and daystamp. (e.g. \"barscan_gpsans_detector1_20200311\"). The file is saved under\n",
    "            subdirectory 'tables', located within the directory of the ```database``` file.\n",
    "            For instance, '/HFIR/CG3/shared/calibration/tables/barscan_gpsans_detector1_20200311.nxs'\n",
    "        overwrite: bool\n",
    "            Substitute existing entry with same metadata\n",
    "\n",
    "        Raises\n",
    "        ------\n",
    "        ValueError\n",
    "            If we save a calibration already in the database with option ```overwrite=False```.\n",
    "        \"\"\""
   ]
  },
  {
   "cell_type": "code",
   "execution_count": null,
   "metadata": {},
   "outputs": [],
   "source": [
    "# Notice we overwrite the already saved calibration, which will happen if we run this notebook more than once.\n",
    "calibration.save(overwrite=True)"
   ]
  },
  {
   "cell_type": "markdown",
   "metadata": {},
   "source": [
    "<h4>Load and Apply a Barscan Calibration</h4>\n",
    "\n",
    "Most relevant function is [apply_calibrations](http://docs.drt-sans.ornl.gov/drtsans/pixel_calibration.html#drtsans.pixel_calibration.apply_calibrations)"
   ]
  },
  {
   "cell_type": "markdown",
   "metadata": {},
   "source": [
    "We apply the barscan calibration to flood run 10502"
   ]
  },
  {
   "cell_type": "code",
   "execution_count": null,
   "metadata": {},
   "outputs": [],
   "source": [
    "from mantid.simpleapi import LoadEventNexus, HFIRSANS2Wavelength\n",
    "LoadEventNexus(Filename='/HFIR/CG2/IPTS-23801/nexus/CG2_10502.nxs.h5', OutputWorkspace='flood_run')\n",
    "HFIRSANS2Wavelength(InputWorkspace='flood_run', OutputWorkspace='flood_run')\n",
    "plot_workspace('flood_run', axes_mode='xy')"
   ]
  },
  {
   "cell_type": "markdown",
   "metadata": {},
   "source": [
    "We apply the calibration in the database which we saved in the previous section.\n",
    "\n",
    "<code>\n",
    "def apply_calibrations(input_workspace, database=None, calibrations=[cal.name for cal in CalType],\n",
    "                       output_workspace=None):\n",
    "\n",
    "    Load and apply pixel calibrations to an input workspace.\n",
    "\n",
    "    devs - Jose Borreguero <borreguerojm@ornl.gov>\n",
    "\n",
    "    Parameters\n",
    "    ----------\n",
    "    input_workspace: str, ~mantid.api.MatrixWorkspace, ~mantid.api.IEventWorkspace\n",
    "        Input workspace whose pixels are to be calibrated.\n",
    "    database: str\n",
    "        Path to JSON file containing metadata for different past calibrations. If :py:obj:`None`,\n",
    "        the default database is used. Currently, these are the default files:\n",
    "        - BIOSANS, '/HFIR/CG3/shared/calibration/pixel_calibration.json',\n",
    "        - EQSANS, '/SNS/EQSANS/shared/calibration/pixel_calibration.json',\n",
    "        - GPSANS, '/HFIR/CG2/shared/calibration/pixel_calibration.json'\n",
    "    calibrations: str, list\n",
    "        One or more of 'BARSCAN' and/or 'TUBEWIDTH'.\n",
    "    output_workspace: str\n",
    "         Name of the output workspace with calibrated pixels. If :py:obj:`None`, the pixels\n",
    "        of the input workspace will be calibrated.\n",
    "</code>\n",
    "\n",
    "Again we plot the pixel intensities on the main detector and visually compare to the previous plot."
   ]
  },
  {
   "cell_type": "code",
   "execution_count": null,
   "metadata": {},
   "outputs": [],
   "source": [
    "from drtsans.mono.gpsans import apply_calibrations\n",
    "apply_calibrations('flood_run', calibrations='BARSCAN', output_workspace='flood_run_calibrated')\n",
    "plot_workspace('flood_run_calibrated', axes_mode='xy')"
   ]
  },
  {
   "cell_type": "markdown",
   "metadata": {},
   "source": [
    "<h3> Create and Save a Barscan Calibration from a Single File</h3>\n",
    "\n",
    "Most relevant function here is [calculate_barscan_calibration](http://docs.drt-sans.ornl.gov/drtsans/pixel_calibration.html#drtsans.pixel_calibration.calculate_barscan_calibration).\n",
    "\n",
    "The output of <code>calculate_barscan_calibration</code> outputs an object containing two parts: a <b>metadata</b> (instrument name, day stamp, name of the double-detector-array), and the proper calibration data, contained in a Mantid <b>table</b> object."
   ]
  },
  {
   "cell_type": "code",
   "execution_count": null,
   "metadata": {},
   "outputs": [],
   "source": [
    "#\n",
    "# \"plot_workspace\" is a utility function, which we will use a couple of times\n",
    "#\n",
    "%matplotlib inline\n",
    "from drtsans.mono.gpsans import plot_detector\n",
    "def plot_workspace(input_workspace, axes_mode='tube-pixel'):\n",
    "    return plot_detector(input_workspace, backend='mpl',axes_mode=axes_mode, imshow_kwargs={})"
   ]
  },
  {
   "cell_type": "markdown",
   "metadata": {},
   "source": [
    "The barscan file we'll use (CG2_7465.nxs.h5) contains a full barscan with 110 different positions for the bar. We can either directly pass this file to function `calculate_barscan_calibration` or we can split the barscan run into individual files, each having the bar at a particular position. This allows us to take a look and see how the scan went down.\n",
    "\n",
    "We split the barscan with function `split_barscan_run` and the script below. I have commented the script because I already splitted the file."
   ]
  },
  {
   "cell_type": "code",
   "execution_count": null,
   "metadata": {},
   "outputs": [],
   "source": [
    "\"\"\"\n",
    "from drtsans.mono.gpsans import split_barscan_run\n",
    "output_directory = '/HFIR/CG2/shared/sans-backend/data/new/ornl/sans/hfir/gpsans/pixel_calibration/runs_7465'\n",
    "barscan_file = '/HFIR/CG2/shared/sans-backend/data/new/ornl/sans/hfir/gpsans/pixel_calibration/CG2_7465.nxs.h5'\n",
    "split_barscan_run(barscan_file, output_directory)\n",
    "\"\"\""
   ]
  },
  {
   "cell_type": "markdown",
   "metadata": {},
   "source": [
    "The barscan contained 110 different positions of the bar. Let's take a look to position 55"
   ]
  },
  {
   "cell_type": "code",
   "execution_count": null,
   "metadata": {},
   "outputs": [],
   "source": [
    "from mantid.simpleapi import LoadNexus\n",
    "LoadNexus('/HFIR/CG2/shared/sans-backend/data/new/ornl/sans/hfir/gpsans/pixel_calibration/runs_7465/CG2_7465_55.nxs',\n",
    "          OutputWorkspace='scan_55')"
   ]
  },
  {
   "cell_type": "code",
   "execution_count": null,
   "metadata": {},
   "outputs": [],
   "source": [
    "plot_workspace('scan_55')"
   ]
  },
  {
   "cell_type": "markdown",
   "metadata": {},
   "source": [
    "Some of the tubes behave quite badly.\n",
    "\n",
    "Below we gather the names of all files in a list"
   ]
  },
  {
   "cell_type": "code",
   "execution_count": null,
   "metadata": {},
   "outputs": [],
   "source": [
    "import os\n",
    "data_dir = '/HFIR/CG2/shared/sans-backend/data/new/ornl/sans/hfir/gpsans/pixel_calibration/runs_7465'\n",
    "barscan_dataset = [os.path.join(data_dir, f'CG2_7465_{i}.nxs') for i in range(111)]  # ranges from 0 to 110"
   ]
  },
  {
   "cell_type": "code",
   "execution_count": null,
   "metadata": {},
   "outputs": [],
   "source": [
    "import time\n",
    "from drtsans.mono.gpsans import calculate_barscan_calibration\n",
    "\n",
    "start_time = time.time()\n",
    "calibration = calculate_barscan_calibration(barscan_dataset)  # calibration for array 'detector1'\n",
    "print('Calibration took ', int((time.time() - start_time) / 60), 'minutes')"
   ]
  },
  {
   "cell_type": "markdown",
   "metadata": {},
   "source": [
    "We can visualize the calibration by coloring each pixel according to its height, or according to its position. Then we show a 2D plot of the pixel colors. For this purpose we create \"views\" with the `as_intensities()` method of the calibration object.\n",
    "\n",
    "We must pass a reference workspace to `as_intensities()`, which could be our barscan run or one of the individual scans."
   ]
  },
  {
   "cell_type": "code",
   "execution_count": null,
   "metadata": {},
   "outputs": [],
   "source": [
    "views = calibration.as_intensities('scan_55')"
   ]
  },
  {
   "cell_type": "code",
   "execution_count": null,
   "metadata": {},
   "outputs": [],
   "source": [
    "plot_workspace(views.positions)  # views.positions is a workspace containing pixel positions as pixel counts\n",
    "plot_workspace(views.heights)  # views.heights is a workspace containing pixel positions as pixel counts"
   ]
  },
  {
   "cell_type": "markdown",
   "metadata": {},
   "source": [
    "<h5>Calibration objects are saved to a database as two separate pieces:</h5>\n",
    "\n",
    "- metadata (instrument name, day stamp, name of the double-detector-array) is save to a JSON file.  \n",
    "- data (a table workspace) is saved to a Nexus file with SaveNexus.  \n",
    "\n",
    "There's a default database for every instrument. The GPSANS location for the metadata JSON file:\n",
    "\n",
    "- GPSANS: <b>/HFIR/CG2/shared/calibration/pixel_calibration.json</b>\n",
    "\n",
    "Data tables are saved under `tables/` subdirectory:\n",
    "\n",
    "- GPSANS: <b>/HFIR/CG2/shared/calibration/tables</b>\n",
    "\n",
    "<h5>Calibration objects have method \"<b>save</b>\" to save itself to the the database. The full signature of this method:</h5>\n",
    "\n",
    "    def save(self, database=None, tablefile=None, overwrite=False):\n",
    "        r\"\"\"\n",
    "        Save the calibration metadata in a JSON file, and the calibration table workspace in a Nexus file.\n",
    "\n",
    "        Parameters\n",
    "        ----------\n",
    "        database: str\n",
    "            Path to the JSON file where the ```metadata``` dictionary will be appended. If :py:obj:`None`,\n",
    "            then the appropriate default file from ~drtsans.pixel_calibration.database_file is used.\n",
    "            Currently, these are the default files:\n",
    "            - BIOSANS, '/HFIR/CG3/shared/calibration/pixel_calibration.json',\n",
    "            - EQSANS, '/SNS/EQSANS/shared/calibration/pixel_calibration.json',\n",
    "            - GPSANS, '/HFIR/CG2/shared/calibration/pixel_calibration.json'\n",
    "        tablefile: str\n",
    "            Path to the Nexus file storing the pixel calibration data. If :py:obj:`None`, then\n",
    "            a composite name is created using the calibration type, instrument, component,\n",
    "            and daystamp. (e.g. \"barscan_gpsans_detector1_20200311\"). The file is saved under\n",
    "            subdirectory 'tables', located within the directory of the ```database``` file.\n",
    "            For instance, '/HFIR/CG3/shared/calibration/tables/barscan_gpsans_detector1_20200311.nxs'\n",
    "        overwrite: bool\n",
    "            Substitute existing entry with same metadata\n",
    "\n",
    "        Raises\n",
    "        ------\n",
    "        ValueError\n",
    "            If we save a calibration already in the database with option ```overwrite=False```.\n",
    "        \"\"\""
   ]
  },
  {
   "cell_type": "code",
   "execution_count": null,
   "metadata": {},
   "outputs": [],
   "source": [
    "# Notice we overwrite the already saved calibration, which will happen if we run this notebook more than once.\n",
    "calibration.save(overwrite=True)"
   ]
  },
  {
   "cell_type": "markdown",
   "metadata": {},
   "source": [
    "<h4>Load and Apply a Barscan Calibration</h4>\n",
    "\n",
    "Most relevant function is [load_calibration](http://docs.drt-sans.ornl.gov/drtsans/pixel_calibration.html#drtsans.pixel_calibration.load_calibration)"
   ]
  },
  {
   "cell_type": "code",
   "execution_count": null,
   "metadata": {},
   "outputs": [],
   "source": [
    "import os\n",
    "from mantid.simpleapi import LoadNexus\n",
    "from drtsans.mono.gpsans import load_calibration\n",
    "\n",
    "# \"plot_workspace\" is a utility function, which we will use a couple of times\n",
    "%matplotlib inline\n",
    "from drtsans.mono.gpsans import plot_detector\n",
    "def plot_workspace(input_workspace, axes_mode='tube-pixel'):\n",
    "    return plot_detector(input_workspace, backend='mpl',axes_mode=axes_mode, imshow_kwargs={})"
   ]
  },
  {
   "cell_type": "markdown",
   "metadata": {},
   "source": [
    "Below we load the run to which we will apply the calibration. It is one of the scans, with the bar positioned past the middle of the detector.  \n",
    "We take a look by plotting the pixel intensities on the main detector."
   ]
  },
  {
   "cell_type": "code",
   "execution_count": null,
   "metadata": {},
   "outputs": [],
   "source": [
    "# Load the run to which we will apply the calibration\n",
    "data_dir = '/HFIR/CG2/shared/sans-backend/data/new/ornl/sans/hfir/gpsans/pixel_calibration'\n",
    "LoadNexus(os.path.join(data_dir, 'scan_88.nxs'), OutputWorkspace='scan_88')\n",
    "\n",
    "plot_workspace('scan_88', axes_mode='xy')"
   ]
  },
  {
   "cell_type": "markdown",
   "metadata": {},
   "source": [
    "Notice in the previous plot some spikes in the shadow cast by the bar. The spikes indicate tubes that need badly to be calibrated."
   ]
  },
  {
   "cell_type": "markdown",
   "metadata": {},
   "source": [
    "Loading a calibration with [load_calibration](http://docs.drt-sans.ornl.gov/drtsans/pixel_calibration.html#drtsans.pixel_calibration.load_calibration) requires at least a target workspace and the type of calibration to be loaded. This functions return a calibration object.\n",
    "\n",
    "The calibration object has method <b>apply</b> to apply itself into a target workspace. Here's the full documentation for this method:\n",
    "\n",
    "    def apply(self, input_workspace, output_workspace=None):\n",
    "        r\"\"\"\n",
    "        Apply a calibration to an input workspace, and return the calibrated workspace.\n",
    "\n",
    "        Parameters\n",
    "        ----------\n",
    "        input_workspace: str, ~mantid.api.MatrixWorkspace, ~mantid.api.IEventsWorkspace\n",
    "            Workspace to which calibration needs to be applied.\n",
    "        output_workspace: str\n",
    "            Name of the output workspace with calibrated pixels. If :py:obj:`None`, the pixels\n",
    "            of the input workspace will be calibrated and no new workspace is generated.\n",
    "\n",
    "        Returns\n",
    "        -------\n",
    "        ~mantid.api.MatrixWorkspace, ~mantid.api.IEventsWorkspace\n",
    "        \"\"\""
   ]
  },
  {
   "cell_type": "code",
   "execution_count": null,
   "metadata": {},
   "outputs": [],
   "source": [
    "calibration = load_calibration('scan_88', 'BARSCAN')\n",
    "# Apply the calibration.\n",
    "start_time = time.time()\n",
    "calibration.apply('scan_88')\n",
    "print(f'Applying the calibration took {time.time() - start_time:.1} seconds')"
   ]
  },
  {
   "cell_type": "markdown",
   "metadata": {},
   "source": [
    "Again we plot the pixel intensities on the main detector and visually compare to the previous plot."
   ]
  },
  {
   "cell_type": "code",
   "execution_count": null,
   "metadata": {},
   "outputs": [],
   "source": [
    "plot_workspace('scan_88', axes_mode='xy')"
   ]
  },
  {
   "cell_type": "markdown",
   "metadata": {},
   "source": [
    "In the calibrated workpace, the shadow spikes tend to be supressed."
   ]
  },
  {
   "cell_type": "markdown",
   "metadata": {},
   "source": [
    "<h3>Calculate Tube Width Calibration</h3>\n",
    "\n",
    "Relevant function is [calculate_apparent_tube_width](http://docs.drt-sans.ornl.gov/drtsans/pixel_calibration.html#drtsans.pixel_calibration.calculate_apparent_tube_width)"
   ]
  },
  {
   "cell_type": "code",
   "execution_count": null,
   "metadata": {},
   "outputs": [],
   "source": [
    "import time\n",
    "from mantid.simpleapi import LoadEventNexus, HFIRSANS2Wavelength\n",
    "from drtsans.mono.gpsans import calculate_apparent_tube_width\n",
    "\n",
    "#\n",
    "# \"plot_workspace\" is a utility function, which we will use a couple of times\n",
    "#\n",
    "from drtsans.mono.gpsans import plot_detector\n",
    "def plot_workspace(input_workspace, axes_mode='tube-pixel'):\n",
    "    return plot_detector(input_workspace, backend='mpl',axes_mode=axes_mode, imshow_kwargs={})"
   ]
  },
  {
   "cell_type": "code",
   "execution_count": null,
   "metadata": {},
   "outputs": [],
   "source": [
    "LoadEventNexus(Filename='/HFIR/CG2/IPTS-23801/nexus/CG2_10502.nxs.h5', OutputWorkspace='flood_run')\n",
    "HFIRSANS2Wavelength(InputWorkspace='flood_run', OutputWorkspace='flood_workspace')"
   ]
  },
  {
   "cell_type": "markdown",
   "metadata": {},
   "source": [
    "We have masked the beam center and saved the mask in a file. Here we apply the mask to the workspace using `apply_mask`"
   ]
  },
  {
   "cell_type": "code",
   "execution_count": null,
   "metadata": {},
   "outputs": [],
   "source": [
    "from drtsans.mono.gpsans import apply_mask\n",
    "mask_file = '/HFIR/CG2/shared/sans-backend/data/new/ornl/sans/hfir/gpsans/pixel_calibration/flood_files/mask_CG2_8143.xml'\n",
    "apply_mask('flood_workspace', mask=mask_file)\n",
    "\n",
    "plot_workspace('flood_workspace', axes_mode='xy')"
   ]
  },
  {
   "cell_type": "markdown",
   "metadata": {},
   "source": [
    "Calculation of the apparent tube width requires that the pixel positions and heights have been calibrated with a barscan. If no good barscan is present in the database, we can use the default pixel positions and heights defined in the instrument defintion file by setting <code>load_barscan_calibration=False</code>\n"
   ]
  },
  {
   "cell_type": "code",
   "execution_count": null,
   "metadata": {},
   "outputs": [],
   "source": [
    "start_time = time.time()\n",
    "calibration = calculate_apparent_tube_width('flood_workspace', load_barscan_calibration=True)\n",
    "print('Calibration took ', int(time.time() - start_time), 'seconds')"
   ]
  },
  {
   "cell_type": "markdown",
   "metadata": {},
   "source": [
    "<h5>Calibration objects are saved to a database as two separate pieces:</h5>\n",
    "\n",
    "- metadata (instrument name, day stamp, name of the double-detector-array) is save to a JSON file.  \n",
    "- data (a table workspace) is saved to a Nexus file with SaveNexus.  \n",
    "\n",
    "There's a default database for every instrument. The GPSANS location for the metadata JSON file:\n",
    "\n",
    "- GPSANS: <b>/HFIR/CG2/shared/calibration/pixel_calibration.json</b>\n",
    "\n",
    "Data tables are saved under `tables/` subdirectory:\n",
    "\n",
    "- GPSANS: <b>/HFIR/CG2/shared/calibration/tables</b>\n",
    "\n",
    "<h5>Calibration objects have method \"<b>save</b>\" to save itself to the the database. The full signature of this method:</h5>\n",
    "\n",
    "    def save(self, database=None, tablefile=None, overwrite=False):\n",
    "        r\"\"\"\n",
    "        Save the calibration metadata in a JSON file, and the calibration table workspace in a Nexus file.\n",
    "\n",
    "        Parameters\n",
    "        ----------\n",
    "        database: str\n",
    "            Path to the JSON file where the ```metadata``` dictionary will be appended. If :py:obj:`None`,\n",
    "            then the appropriate default file from ~drtsans.pixel_calibration.database_file is used.\n",
    "            Currently, these are the default files:\n",
    "            - BIOSANS, '/HFIR/CG3/shared/calibration/pixel_calibration.json',\n",
    "            - EQSANS, '/SNS/EQSANS/shared/calibration/pixel_calibration.json',\n",
    "            - GPSANS, '/HFIR/CG2/shared/calibration/pixel_calibration.json'\n",
    "        tablefile: str\n",
    "            Path to the Nexus file storing the pixel calibration data. If :py:obj:`None`, then\n",
    "            a composite name is created using the calibration type, instrument, component,\n",
    "            and daystamp. (e.g. \"barscan_gpsans_detector1_20200311\"). The file is saved under\n",
    "            subdirectory 'tables', located within the directory of the ```database``` file.\n",
    "            For instance, '/HFIR/CG3/shared/calibration/tables/barscan_gpsans_detector1_20200311.nxs'\n",
    "        overwrite: bool\n",
    "            Substitute existing entry with same metadata\n",
    "\n",
    "        Raises\n",
    "        ------\n",
    "        ValueError\n",
    "            If we save a calibration already in the database with option ```overwrite=False```.\n",
    "        \"\"\""
   ]
  },
  {
   "cell_type": "code",
   "execution_count": null,
   "metadata": {},
   "outputs": [],
   "source": [
    "# Notice we overwrite the already saved calibration, which will happen if we run this notebook more than once.\n",
    "calibration.save(overwrite=True)"
   ]
  },
  {
   "cell_type": "markdown",
   "metadata": {},
   "source": [
    "<h4>Load and Apply a Tube Width Calibration</h4>\n",
    "\n",
    "In function <code>linear_density</code> below, we integrate the total intensity per tube and divide by the number of non-masked pixels in the tube, and by the tube width. Front end tubes collect more intentity than the back tubes. Similarly, front end tubes have a larger apparent tube width than back tubes. The ratio of total intensity to width should be similar for front and end tubes after the calibration.First some general imports and a couple of custom plotting functions"
   ]
  },
  {
   "cell_type": "code",
   "execution_count": null,
   "metadata": {},
   "outputs": [],
   "source": [
    "import numpy as np\n",
    "from drtsans.tubecollection import TubeCollection\n",
    "from matplotlib import pyplot as plt\n",
    "\n",
    "#\n",
    "# \"plot_histograms\" to create fancy plots of the spectram stored in an input workspace\n",
    "#\n",
    "def plot_histograms(input_workspace, legend=[], xlabel='X-axis', ylabel='Y-axis', title='', linewidths=[]):\n",
    "    r\"\"\"Line plot for the histograms of a workspace\"\"\"\n",
    "    workspace = mtd[str(input_workspace)]\n",
    "    number_histograms = workspace.getNumberHistograms()\n",
    "    if len(legend) != number_histograms:\n",
    "        legend = [str(i) for i in range(number_histograms)]\n",
    "    if len(linewidths) != number_histograms:\n",
    "        linewidths = [1] * number_histograms\n",
    "    fig, ax = plt.subplots(subplot_kw={'projection':'mantid'})\n",
    "    for workspace_index in range(number_histograms):\n",
    "        ax.plot(workspace, wkspIndex=workspace_index, label=legend[workspace_index],\n",
    "                linewidth=linewidths[workspace_index])\n",
    "    ax.legend()\n",
    "    ax.set_xlabel(xlabel)\n",
    "    ax.set_ylabel(ylabel)\n",
    "    ax.set_title(title)\n",
    "    ax.tick_params(axis='x', direction='in')\n",
    "    ax.tick_params(axis='y', direction='out')\n",
    "    ax.grid(True)\n",
    "    fig.show()\n",
    "\n",
    "def linear_density(workspace):\n",
    "    r\"\"\"Tube total intensity per non-masked pixel and per unit length of tube width\"\"\"\n",
    "    collection = TubeCollection(workspace, 'detector1').sorted(view='fbfb')\n",
    "    intensities = np.array([np.sum(tube.readY) for tube in collection])\n",
    "    widths = np.array([tube.width for tube in collection])\n",
    "    number_pixels_not_masked = np.array([np.sum(~tube.isMasked) for tube in collection])\n",
    "    return list(intensities / (number_pixels_not_masked * widths))"
   ]
  },
  {
   "cell_type": "markdown",
   "metadata": {},
   "source": [
    "    We apply the barscan calibration, and the tube width calibration that we just saved"
   ]
  },
  {
   "cell_type": "code",
   "execution_count": null,
   "metadata": {},
   "outputs": [],
   "source": [
    "from drtsans.mono.gpsans import apply_calibrations\n",
    "# apply bar scan and tube width calibrations\n",
    "apply_calibrations('flood_workspace', output_workspace='flood_workspace_calibrated')\n",
    "plot_workspace('flood_workspace_calibrated', axes_mode='xy')"
   ]
  },
  {
   "cell_type": "markdown",
   "metadata": {},
   "source": [
    "We store both linear densities in a workspace, and then we'll use matplotlib to plot both densities"
   ]
  },
  {
   "cell_type": "code",
   "execution_count": null,
   "metadata": {},
   "outputs": [],
   "source": [
    "from mantid.simpleapi import CreateWorkspace\n",
    "from mantid.api import mtd\n",
    "\n",
    "uncalibrated_densities = linear_density('flood_workspace')\n",
    "calibrated_densities = linear_density('flood_workspace_calibrated')\n",
    "\n",
    "number_tubes = len(uncalibrated_densities)\n",
    "CreateWorkspace(DataX=range(number_tubes),\n",
    "                DataY=np.array([uncalibrated_densities, calibrated_densities]),\n",
    "                NSpec=2,   # two histograms\n",
    "                Outputworkspace='linear_densities')\n",
    "plot_histograms('linear_densities',\n",
    "                legend=['no calibration', 'calibrated'],\n",
    "                xlabel='Tube Index', ylabel='Intensity', linewidths=[3, 1])"
   ]
  },
  {
   "cell_type": "markdown",
   "metadata": {},
   "source": [
    "The oslillating intensities in the linear densities have been suppresed for most tubes, indicating the calibration is working."
   ]
  },
  {
   "cell_type": "markdown",
   "metadata": {},
   "source": [
    "<h3>Loading and Applying a Pixel Calibration (Barscan plus Tube-Width)</h3>\n",
    "\n",
    "Relevant function is [apply_calibrations](http://docs.drt-sans.ornl.gov/drtsans/pixel_calibration.html#drtsans.pixel_calibration.apply_calibrations), which will search for <code>BARSCAN</code> and <code>TUBEWIDTH</code> calibrations appropriate to the target run"
   ]
  },
  {
   "cell_type": "code",
   "execution_count": null,
   "metadata": {},
   "outputs": [],
   "source": [
    "import time\n",
    "from mantid.simpleapi import LoadEventNexus\n",
    "from drtsans.mono.gpsans import apply_calibrations\n",
    "\n",
    "#\n",
    "# \"plot_workspace\" is a utility function, which we will use a couple of times\n",
    "#\n",
    "from drtsans.mono.gpsans import plot_detector\n",
    "def plot_workspace(input_workspace, axes_mode='tube-pixel'):\n",
    "    return plot_detector(input_workspace, backend='mpl',axes_mode=axes_mode, imshow_kwargs={})"
   ]
  },
  {
   "cell_type": "code",
   "execution_count": null,
   "metadata": {},
   "outputs": [],
   "source": [
    "LoadEventNexus(Filename='/HFIR/CG2/IPTS-23801/nexus/CG2_10502.nxs.h5', OutputWorkspace='workspace')\n",
    "HFIRSANS2Wavelength(InputWorkspace='flood_run', OutputWorkspace='workspace')\n",
    "plot_workspace('workspace', axes_mode='xy')"
   ]
  },
  {
   "cell_type": "code",
   "execution_count": null,
   "metadata": {},
   "outputs": [],
   "source": [
    "apply_calibrations('workspace')\n",
    "plot_workspace('workspace', axes_mode='xy')"
   ]
  },
  {
   "cell_type": "markdown",
   "metadata": {},
   "source": [
    "We can see when the BARSCAN calibration was taken, and the time when the input data was taken. For this we use function [load_calibration](http://docs.drt-sans.ornl.gov/drtsans/pixel_calibration.html#drtsans.pixel_calibration.load_calibration) and function <code>day_stamp</code>."
   ]
  },
  {
   "cell_type": "code",
   "execution_count": null,
   "metadata": {},
   "outputs": [],
   "source": [
    "from drtsans.mono.gpsans import load_calibration, day_stamp\n",
    "calibration = load_calibration('workspace', 'BARSCAN')\n",
    "print('BARSCAN taken on', calibration.daystamp)\n",
    "print('Input data taken on ', day_stamp('workspace'))"
   ]
  },
  {
   "cell_type": "code",
   "execution_count": null,
   "metadata": {},
   "outputs": [],
   "source": []
  }
 ],
 "metadata": {
  "kernelspec": {
   "display_name": "Python 3 (ipykernel)",
   "language": "python",
   "name": "python3"
  },
  "language_info": {
   "codemirror_mode": {
    "name": "ipython",
    "version": 3
   },
   "file_extension": ".py",
   "mimetype": "text/x-python",
   "name": "python",
   "nbconvert_exporter": "python",
   "pygments_lexer": "ipython3",
   "version": "3.10.14"
  },
  "toc": {
   "base_numbering": 1,
   "nav_menu": {},
   "number_sections": true,
   "sideBar": true,
   "skip_h1_title": false,
   "title_cell": "Table of Contents",
   "title_sidebar": "Contents",
   "toc_cell": false,
   "toc_position": {},
   "toc_section_display": true,
   "toc_window_display": false
  }
 },
 "nbformat": 4,
 "nbformat_minor": 4
}
