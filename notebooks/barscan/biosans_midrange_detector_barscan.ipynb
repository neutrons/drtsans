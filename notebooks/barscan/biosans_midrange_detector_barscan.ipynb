{
 "cells": [
  {
   "attachments": {},
   "cell_type": "markdown",
   "metadata": {},
   "source": [
    "<h3>General Imports</h3>"
   ]
  },
  {
   "cell_type": "code",
   "execution_count": null,
   "metadata": {},
   "outputs": [],
   "source": [
    "import os\n",
    "import time\n",
    "\n",
    "# Mantid imports\n",
    "from mantid.simpleapi import LoadNexusProcessed, mtd\n",
    "\n",
    "# drtsans imports\n",
    "from drtsans.pixel_calibration import calculate_barscan_calibration, load_calibration, as_intensities\n",
    "from drtsans.mono.biosans.simulated_intensities import clone_component_intensities"
   ]
  },
  {
   "cell_type": "code",
   "execution_count": null,
   "metadata": {},
   "outputs": [],
   "source": [
    "# \"plot_wing_detector\" is a utility plotting function that we will use a couple of times\n",
    "%matplotlib inline\n",
    "#%matplotlib widget\n",
    "from drtsans.plots import plot_detector\n",
    "def plot_midrange_detector(input_workspace, axes_mode='tube-pixel', panel_name='midrange_detector'):\n",
    "    return plot_detector(input_workspace, backend='mpl',axes_mode=axes_mode,\n",
    "                         panel_name=panel_name, imshow_kwargs={})"
   ]
  },
  {
   "attachments": {},
   "cell_type": "markdown",
   "metadata": {},
   "source": [
    "<h3>Dataset</h3>\n",
    "\n",
    "The barscan are a group of files for BIOSANS midrange detector.\n",
    "\n",
    "We assume formula $y = dcal - 640$ to translate the position of the bar ($dcal$) stored in the metadata of the runs, and the position of the bar in the frame of reference of the sample ($y$)."
   ]
  },
  {
   "cell_type": "code",
   "execution_count": null,
   "metadata": {},
   "outputs": [],
   "source": [
    "data_dir = '/SNS/EQSANS/shared/sans-backend/data/ornl/sans/hfir/biosans/pixel_calibration/scans/'\n",
    "\n",
    "first_run, last_run = 4895, 5009\n",
    "\n",
    "detector_array = 'midrange_detector'  # calibration for the midrange detector\n",
    "formula = '{y} - 565'  # translate from scan log value to Y-coordinate in the sample's reference frame.\n",
    "# Gather all file paths into a python list\n",
    "barscan_files = [os.path.join(data_dir, f'CG3_{run}.nxs') for run in range(first_run, 1 + last_run)]"
   ]
  },
  {
   "attachments": {},
   "cell_type": "markdown",
   "metadata": {},
   "source": [
    "<h3>Simulated barscan workspaces</h3>\n",
    "\n",
    "We create the `barscan_workspaces` for the midrange detector by cloning the intensities of the barscan files for the wing detector. Addtionally, we find the middle scan workspace from all barscan workspaces. "
   ]
  },
  {
   "cell_type": "code",
   "execution_count": null,
   "metadata": {},
   "outputs": [],
   "source": [
    "barscan_workspaces = []\n",
    "wing_barscan_workspace = mtd.unique_hidden_name()\n",
    "middle_scan_index = int((last_run - first_run) / 2)\n",
    "middle_scan_w = None\n",
    "for scan_index, scan_data in enumerate(barscan_files):\n",
    "    LoadNexusProcessed(scan_data, OutputWorkspace=wing_barscan_workspace)\n",
    "    barscan_workspace = clone_component_intensities(\n",
    "        wing_barscan_workspace,\n",
    "        output_workspace=mtd.unique_hidden_name(),\n",
    "        input_component=\"wing_detector\",\n",
    "        output_component=\"midrange_detector\",\n",
    "        copy_logs=True,\n",
    "    )\n",
    "    if (middle_scan_index == scan_index):\n",
    "        middle_scan_w = barscan_workspace\n",
    "    barscan_workspaces.append(str(barscan_workspace))"
   ]
  },
  {
   "attachments": {},
   "cell_type": "markdown",
   "metadata": {},
   "source": [
    "<h3>Caveats</h3>\n",
    "As it turns out, the bar is not covering the first and last tubes. We verify this by plotting the intensities on the midrange detector for the middle scan.\n",
    "\n",
    "We mask the first and last tubes using the correspoding detector ids by looking into the instrument structure. This flags these tubes as faulty when performing the barscan calculations. **Average** pixel positions and heights will be used to estimate the calibration of these faulty tubes."
   ]
  },
  {
   "cell_type": "code",
   "execution_count": null,
   "metadata": {},
   "outputs": [],
   "source": [
    "plot_midrange_detector(middle_scan_w)\n",
    "\n",
    "tube_pixels = 256\n",
    "# mask the last tube in the midrange detector (back-midrange panel/bank104/tube4 from visual inspection of instrument)\n",
    "closest_masked_detector_ids = list(range(106240, 106240+tube_pixels+1))\n",
    "\n",
    "#bank 89/tube 1, the furthest from the beam\n",
    "furthest_masked_detector_ids = list(range(90112, 90112+tube_pixels+1))\n",
    "masked_detectors = closest_masked_detector_ids + furthest_masked_detector_ids"
   ]
  },
  {
   "attachments": {},
   "cell_type": "markdown",
   "metadata": {},
   "source": [
    "<h3>Calibration</h3>\n",
    "We carry out the calibration with the <code>barscan_workspaces</code> in the following cell.\n",
    "\n",
    "Calculation of the calibration is slow, about 5 to 10 minutes. However, calibrations are carried out once or twice in a cycle."
   ]
  },
  {
   "cell_type": "code",
   "execution_count": null,
   "metadata": {},
   "outputs": [],
   "source": [
    "# Carry out the calibration\n",
    "\n",
    "start_time = time.time()\n",
    "calibration,_ = calculate_barscan_calibration(barscan_workspaces, component=detector_array,\n",
    "                                            formula=formula, mask=masked_detectors, inspect_data=True)\n",
    "print('Calibration took ', int((time.time() - start_time) / 60), 'minutes')"
   ]
  },
  {
   "attachments": {},
   "cell_type": "markdown",
   "metadata": {},
   "source": [
    "<h3>Saving the Calibration</h3>\n",
    "There are default database files for each instrument when saving a calibration. For BIOSANS is <code>/HFIR/CG3/shared/calibration/pixel_calibration.json</code>. We don't want to mess with the official database so we save this calibration to a temporary database file locally in the <code>/tmp/</code> directory.\n",
    "We use argument overwrite=True in case we run the notebook more than once. Then we will overwrite the existing \n",
    "calibration entry in the database"
   ]
  },
  {
   "cell_type": "code",
   "execution_count": null,
   "metadata": {},
   "outputs": [],
   "source": [
    "#calibration.save(database='/HFIR/CG3/shared/tmp/calibration.json', overwrite=True)\n",
    "database_path = '/tmp/calibration_midrange_detector.json'\n",
    "calibration.save(database=database_path, overwrite=True)"
   ]
  },
  {
   "attachments": {},
   "cell_type": "markdown",
   "metadata": {},
   "source": [
    "<h3>Applying a Saved Calibration</h3>\n",
    "Next we use one of the barscan workspaces as the target for our recently saved calibration.\n",
    "Notice that we are applying the calibration to our input workspace and saving the result to an output workspace. If you want to <b>overwrite</b> the input workspace, then omit the <code>output_workspace</code> argument."
   ]
  },
  {
   "cell_type": "code",
   "execution_count": null,
   "metadata": {},
   "outputs": [],
   "source": [
    "random_workspace = middle_scan_w\n",
    "saved_calibration = load_calibration(random_workspace, 'BARSCAN', component='midrange_detector',\n",
    "                                     database=database_path)\n",
    "start_time = time.time()\n",
    "saved_calibration.apply(random_workspace, output_workspace='output_workspace')\n",
    "print('Applying the calibration took ', time.time() - start_time, 'seconds')"
   ]
  },
  {
   "attachments": {},
   "cell_type": "markdown",
   "metadata": {},
   "source": [
    "<h3>Visualizing the Effects of the Calibration</h3>\n",
    "We plot intensities on the midrange detector before and after the calibration. Notice we use argument <code>axes_mode='xy'</code> that instruct <code>plot_midrange_detector</code> to plot intensities versus $X$ and $Y$ coordinates, instead of the default plotting. The default plotting is versus tube index and pixel index.\n",
    "\n",
    "Notice: generating the plots versus $X$ and $Y$ will take about a minute"
   ]
  },
  {
   "cell_type": "code",
   "execution_count": null,
   "metadata": {},
   "outputs": [],
   "source": [
    "plot_midrange_detector(random_workspace, axes_mode='xy')  # before calibration\n",
    "plot_midrange_detector('output_workspace', axes_mode='xy')  # after calibration"
   ]
  },
  {
   "attachments": {},
   "cell_type": "markdown",
   "metadata": {},
   "source": [
    "If the calibration has worked, the bar should appear more **levelled** after the calibration.\n",
    "\n",
    "Also notice that all values of $X$ are negative, as the wing detector is standing on the negative side of the X-axis"
   ]
  },
  {
   "attachments": {},
   "cell_type": "markdown",
   "metadata": {},
   "source": [
    "<h3>Viewing the Calibrated Positions and Heights</h3>\n",
    "We can retrieve the pixel positions and heights from the calibrated <code>output_workspace</code>. The cell below will take for each pixel its vertical position and store this value as the intensity value in workspace <code>views.positions</code>. Later we can color plot this workspace to view the assigned positions to each pixel. The same process is done for pixel heights.\n",
    "\n",
    "Again, extracting the ~50K positions and heights takes time."
   ]
  },
  {
   "cell_type": "code",
   "execution_count": null,
   "metadata": {},
   "outputs": [],
   "source": [
    "views = as_intensities('output_workspace', component='midrange_detector')\n",
    "plot_midrange_detector(views.positions)\n",
    "plot_midrange_detector(views.heights)"
   ]
  }
 ],
 "metadata": {
  "kernelspec": {
   "display_name": "Python 3",
   "language": "python",
   "name": "python3"
  },
  "language_info": {
   "codemirror_mode": {
    "name": "ipython",
    "version": 3
   },
   "file_extension": ".py",
   "mimetype": "text/x-python",
   "name": "python",
   "nbconvert_exporter": "python",
   "pygments_lexer": "ipython3",
   "version": "3.8.17"
  },
  "pycharm": {
   "stem_cell": {
    "cell_type": "raw",
    "metadata": {
     "collapsed": false
    },
    "source": []
   }
  },
  "toc": {
   "base_numbering": 1,
   "nav_menu": {},
   "number_sections": true,
   "sideBar": true,
   "skip_h1_title": false,
   "title_cell": "Table of Contents",
   "title_sidebar": "Contents",
   "toc_cell": false,
   "toc_position": {},
   "toc_section_display": true,
   "toc_window_display": false
  }
 },
 "nbformat": 4,
 "nbformat_minor": 2
}
