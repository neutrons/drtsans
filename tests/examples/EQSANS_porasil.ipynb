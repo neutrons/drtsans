{
 "cells": [
  {
   "cell_type": "markdown",
   "metadata": {},
   "source": [
    "# Porasil example"
   ]
  },
  {
   "cell_type": "code",
   "execution_count": 1,
   "metadata": {},
   "outputs": [],
   "source": [
    "import os\n",
    "import numpy as np\n",
    "import scipy.stats\n",
    "import warnings\n",
    "warnings.filterwarnings('ignore', module='numpy')\n",
    "warnings.filterwarnings('ignore')\n",
    "\n",
    "import matplotlib.pyplot as plt\n",
    "%matplotlib notebook"
   ]
  },
  {
   "cell_type": "code",
   "execution_count": 2,
   "metadata": {},
   "outputs": [],
   "source": [
    "from mantid.simpleapi import mtd\n",
    "from mantid import simpleapi as api"
   ]
  },
  {
   "cell_type": "code",
   "execution_count": 3,
   "metadata": {},
   "outputs": [],
   "source": [
    "from ornl.sans.sns import eqsans"
   ]
  },
  {
   "cell_type": "markdown",
   "metadata": {},
   "source": [
    "## Settings for loading data"
   ]
  },
  {
   "cell_type": "code",
   "execution_count": 4,
   "metadata": {},
   "outputs": [],
   "source": [
    "config = dict(#mask=\"data/EQSANS_88980_mask.xml\",\n",
    "              bin_width=0.5,\n",
    "              low_tof_clip=500,\n",
    "              high_tof_clip=2000,\n",
    "              detector_offset=0,\n",
    "              sample_offset=340,\n",
    "              flux_method='proton charge',\n",
    "              flux=\"/SNS/EQSANS/shared/instrument_configuration/bl6_flux_at_sample\",\n",
    "              sensitivity_file_path=\"/SNS/EQSANS/shared/NeXusFiles/EQSANS/2017A_mp/Sensitivity_patched_thinPMMA_4m_79165_event.nxs\",\n",
    "              dark_current=\"/SNS/EQSANS/shared/NeXusFiles/EQSANS/2017B_mp/EQSANS_86275.nxs.h5\",\n",
    "             )\n",
    "\n",
    "mask_file = \"/SNS/users/m2d/git/analysis_playground/eqsans/notebooks/data/EQSANS_88980_mask.xml\""
   ]
  },
  {
   "cell_type": "markdown",
   "metadata": {},
   "source": [
    "## Find beam center\n",
    "For some reason there is a sign different between the old and new."
   ]
  },
  {
   "cell_type": "code",
   "execution_count": 5,
   "metadata": {},
   "outputs": [
    {
     "name": "stdout",
     "output_type": "stream",
     "text": [
      "Old reduction's beam center in real space: -0.027885 -0.014921\n",
      "Beam center found: -0.0252392 -0.0170794\n"
     ]
    }
   ],
   "source": [
    "# The new way of dealing with the beam center is in real space, relative to the center of the detector.\n",
    "# The EQSANS detector is 192 x 256 pixels, and the pixel sizes are 5.5 mm x 4.3 mm\n",
    "x_center = -(192/2.0 - 90.93) * 0.0055\n",
    "y_center = (256/2.0 - 131.47) * 0.0043\n",
    "print(\"Old reduction's beam center in real space: %g %g\" % (x_center, y_center))\n",
    "\n",
    "db_ws = eqsans.load_events(\"EQSANS_88973\")\n",
    "center = eqsans.center_detector(db_ws)\n",
    "print(\"Beam center found: %g %g\" % (center[0], center[1]))\n",
    "\n",
    "config['x_center'] = x_center\n",
    "config['y_center'] = y_center"
   ]
  },
  {
   "cell_type": "markdown",
   "metadata": {},
   "source": [
    "## Prepare the data for I(Q) calculation"
   ]
  },
  {
   "cell_type": "code",
   "execution_count": 6,
   "metadata": {},
   "outputs": [
    {
     "name": "stdout",
     "output_type": "stream",
     "text": [
      "CPU times: user 1min 11s, sys: 14.9 s, total: 1min 26s\n",
      "Wall time: 2min 14s\n"
     ]
    }
   ],
   "source": [
    "%%time\n",
    "absolute_scale = 0.0208641883\n",
    "sample_thickness = 0.1  # mm\n",
    "\n",
    "# Load and prepare scattering data\n",
    "ws = eqsans.prepare_data(\"EQSANS_88980\", mask=mask_file, **config)\n",
    "\n",
    "# Apply transmission\n",
    "apply_transmission = True\n",
    "if apply_transmission:\n",
    "    ws_tr_sample = eqsans.prepare_data(\"EQSANS_88975\", **config)\n",
    "    ws_tr_direct = eqsans.prepare_data(\"EQSANS_88973\", **config)\n",
    "    tr_ws = eqsans.calculate_transmission(ws_tr_sample, ws_tr_direct, radius=None, radius_unit='mm')\n",
    "    ws = eqsans.apply_transmission_correction(ws, trans_workspace=tr_ws)\n",
    "\n",
    "# Background\n",
    "ws_bck = eqsans.prepare_data(\"EQSANS_88979\", mask=mask_file, **config)\n",
    "\n",
    "# Apply transmission\n",
    "if apply_transmission:\n",
    "    ws_tr_back = eqsans.prepare_data(\"EQSANS_88974\", **config)\n",
    "    ws_tr_direct = eqsans.prepare_data(\"EQSANS_88973\", **config)\n",
    "\n",
    "    tr_ws = eqsans.calculate_transmission(ws_tr_back, ws_tr_direct, radius=None, radius_unit='mm')\n",
    "    ws_bck = eqsans.apply_transmission_correction(ws_bck, trans_workspace=tr_ws)\n",
    "\n",
    "ws = eqsans.subtract_background(ws, background=ws_bck)\n",
    "\n",
    "ws /= sample_thickness\n",
    "ws *= absolute_scale"
   ]
  },
  {
   "cell_type": "code",
   "execution_count": 7,
   "metadata": {},
   "outputs": [
    {
     "name": "stdout",
     "output_type": "stream",
     "text": [
      "CPU times: user 6.8 s, sys: 105 ms, total: 6.91 s\n",
      "Wall time: 6.47 s\n"
     ]
    }
   ],
   "source": [
    "%%time\n",
    "table_ws_list = eqsans.prepare_momentum_transfer(ws, wavelength_binning=[config['bin_width']])"
   ]
  },
  {
   "cell_type": "code",
   "execution_count": 8,
   "metadata": {},
   "outputs": [
    {
     "name": "stdout",
     "output_type": "stream",
     "text": [
      "CPU times: user 478 ms, sys: 28.7 ms, total: 507 ms\n",
      "Wall time: 537 ms\n"
     ]
    }
   ],
   "source": [
    "%%time\n",
    "iq_ws_f1 = eqsans.cal_iq(table_ws_list[0], bins=100, log_binning=True)\n",
    "\n",
    "# Save output\n",
    "filepath = os.path.join(os.path.expanduser('~'), iq_ws_f1.name()+'.txt')\n",
    "api.SaveAscii(iq_ws_f1.name(), Filename=filepath, WriteSpectrumID=False, WriteXError=True)"
   ]
  },
  {
   "cell_type": "code",
   "execution_count": 9,
   "metadata": {},
   "outputs": [
    {
     "name": "stdout",
     "output_type": "stream",
     "text": [
      "CPU times: user 529 ms, sys: 31.3 ms, total: 561 ms\n",
      "Wall time: 574 ms\n"
     ]
    }
   ],
   "source": [
    "%%time\n",
    "if len(table_ws_list) == 2:\n",
    "    iq_ws_f2 = eqsans.cal_iq(table_ws_list[1], bins=150, log_binning=True)\n",
    "\n",
    "    filepath = os.path.join(os.path.expanduser('~'), iq_ws_f2.name()+'.txt')\n",
    "    api.SaveAscii(iq_ws_f2.name(), Filename=filepath, WriteSpectrumID=False, WriteXError=True)"
   ]
  },
  {
   "cell_type": "markdown",
   "metadata": {},
   "source": [
    "# Compare the results"
   ]
  },
  {
   "cell_type": "code",
   "execution_count": 15,
   "metadata": {},
   "outputs": [
    {
     "ename": "SyntaxError",
     "evalue": "invalid syntax (<ipython-input-15-086bb297bab9>, line 14)",
     "output_type": "error",
     "traceback": [
      "\u001b[0;36m  File \u001b[0;32m\"<ipython-input-15-086bb297bab9>\"\u001b[0;36m, line \u001b[0;32m14\u001b[0m\n\u001b[0;31m    if os.path.exists(os.path.join(data_dir, 'EQSANS_88980_frame1_iq.txt'):\u001b[0m\n\u001b[0m                                                                          ^\u001b[0m\n\u001b[0;31mSyntaxError\u001b[0m\u001b[0;31m:\u001b[0m invalid syntax\n"
     ]
    }
   ],
   "source": [
    "scale_match = 300000\n",
    "\n",
    "data_dir = os.path.expanduser('~')\n",
    "ref_f1 = np.loadtxt(os.path.join(data_dir, 'EQSANS_88980_frame1_iq_ref.txt'), delimiter=',')\n",
    "ref_f2 = np.loadtxt(os.path.join(data_dir, 'EQSANS_88980_frame2_iq_ref.txt'), delimiter=',')\n",
    "\n",
    "\n",
    "fig, ax = plt.subplots()\n",
    "ax.errorbar(reduced_f1.T[0], reduced_f1.T[1]/scale_match, yerr=reduced_f1.T[2]/scale_match, label=\"New F1\")\n",
    "ax.errorbar(reduced_f2.T[0], reduced_f2.T[1]/scale_match, yerr=reduced_f2.T[2]/scale_match, label=\"New F2\")\n",
    "\n",
    "# To compare to reference data, execute the EQSANS_porasil.py script on one of the\n",
    "# analysis computers to create the reference data.\n",
    "if os.path.exists(os.path.join(data_dir, 'EQSANS_88980_frame1_iq.txt'):\n",
    "    reduced_f1 = np.loadtxt(os.path.join(data_dir, 'EQSANS_88980_frame1_iq.txt'), delimiter=',')\n",
    "    reduced_f2 = np.loadtxt(os.path.join(data_dir, 'EQSANS_88980_frame2_iq.txt'), delimiter=',')\n",
    "    ax.errorbar(ref_f1.T[0], ref_f1.T[1], yerr=ref_f1.T[2], label=\"Old F1\")\n",
    "    ax.errorbar(ref_f2.T[0], ref_f2.T[1], yerr=ref_f2.T[2], label=\"Old F2\")\n",
    "\n",
    "ax.set_yscale('log')\n",
    "ax.set_xscale('log')\n",
    "ax.legend()"
   ]
  }
 ],
 "metadata": {
  "kernelspec": {
   "display_name": "sans at jnrk-sns-analysis",
   "language": "python",
   "name": "jnrk-sns-analysis-sans"
  },
  "language_info": {
   "codemirror_mode": {
    "name": "ipython",
    "version": 3
   },
   "file_extension": ".py",
   "mimetype": "text/x-python",
   "name": "python",
   "nbconvert_exporter": "python",
   "pygments_lexer": "ipython3",
   "version": "3.6.7"
  }
 },
 "nbformat": 4,
 "nbformat_minor": 2
}
